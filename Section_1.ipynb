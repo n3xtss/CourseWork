{
  "nbformat": 4,
  "nbformat_minor": 0,
  "metadata": {
    "colab": {
      "provenance": [],
      "authorship_tag": "ABX9TyMGbbC9qFfJiIRKtf7wkBWJ",
      "include_colab_link": true
    },
    "kernelspec": {
      "name": "ir",
      "display_name": "R"
    },
    "language_info": {
      "name": "R"
    }
  },
  "cells": [
    {
      "cell_type": "markdown",
      "metadata": {
        "id": "view-in-github",
        "colab_type": "text"
      },
      "source": [
        "<a href=\"https://colab.research.google.com/github/n3xtss/CourseWork/blob/main/Section_1.ipynb\" target=\"_parent\"><img src=\"https://colab.research.google.com/assets/colab-badge.svg\" alt=\"Open In Colab\"/></a>"
      ]
    },
    {
      "cell_type": "code",
      "execution_count": null,
      "metadata": {
        "colab": {
          "base_uri": "https://localhost:8080/"
        },
        "collapsed": true,
        "id": "Ex2dMcA7h_43",
        "outputId": "fc89f76c-ea8a-496c-f82b-3570cbd895e6"
      },
      "outputs": [
        {
          "output_type": "stream",
          "name": "stderr",
          "text": [
            "Installing package into ‘/usr/local/lib/R/site-library’\n",
            "(as ‘lib’ is unspecified)\n",
            "\n",
            "also installing the dependency ‘bitops’\n",
            "\n",
            "\n",
            "Installing package into ‘/usr/local/lib/R/site-library’\n",
            "(as ‘lib’ is unspecified)\n",
            "\n",
            "Installing package into ‘/usr/local/lib/R/site-library’\n",
            "(as ‘lib’ is unspecified)\n",
            "\n",
            "also installing the dependencies ‘plogr’, ‘gsubfn’, ‘proto’, ‘RSQLite’, ‘chron’\n",
            "\n",
            "\n",
            "Installing package into ‘/usr/local/lib/R/site-library’\n",
            "(as ‘lib’ is unspecified)\n",
            "\n",
            "Installing package into ‘/usr/local/lib/R/site-library’\n",
            "(as ‘lib’ is unspecified)\n",
            "\n"
          ]
        }
      ],
      "source": [
        "install.packages(\"RCurl\")\n",
        "install.packages(\"conflicted\")\n",
        "install.packages(\"sqldf\")\n",
        "install.packages(\"tidyverse\")\n",
        "install.packages(\"dplyr\")\n"
      ]
    },
    {
      "cell_type": "code",
      "source": [
        "library(RCurl)\n",
        "library(sqldf)\n",
        "library(conflicted)\n",
        "library(tidyverse)\n",
        "library(dplyr)\n"
      ],
      "metadata": {
        "collapsed": true,
        "id": "h8iCCfd_2NIY"
      },
      "execution_count": null,
      "outputs": []
    },
    {
      "cell_type": "markdown",
      "source": [],
      "metadata": {
        "id": "0-QNZlAz2Lup"
      }
    },
    {
      "cell_type": "code",
      "source": [
        "# Use the Raw GitHub URL\n",
        "url <- \"https://raw.githubusercontent.com/n3xtss/CourseWork/refs/heads/main/greenfuture_ideas_dataset.csv\"\n",
        "\n",
        "# Retrieve CSV content\n",
        "x <- getURL(url)\n",
        "\n",
        "# Read CSV from retrieved text\n",
        "df <- read.csv(text = x)\n",
        "\n",
        "# Display the first few rows\n",
        "head(df)\n"
      ],
      "metadata": {
        "colab": {
          "base_uri": "https://localhost:8080/",
          "height": 410
        },
        "collapsed": true,
        "id": "L4UU-f3jlF59",
        "outputId": "e885e16a-b5bc-4b57-92d2-75f091773bf3"
      },
      "execution_count": null,
      "outputs": [
        {
          "output_type": "display_data",
          "data": {
            "text/html": [
              "<table class=\"dataframe\">\n",
              "<caption>A data.frame: 6 × 11</caption>\n",
              "<thead>\n",
              "\t<tr><th></th><th scope=col>Employee.ID</th><th scope=col>Office.Location</th><th scope=col>Department</th><th scope=col>Idea.Submission.Date</th><th scope=col>Idea.Title</th><th scope=col>Idea.Category</th><th scope=col>Number.of.Votes</th><th scope=col>Collaboration.Status</th><th scope=col>Approval.Status</th><th scope=col>Implementation.Status</th><th scope=col>Security.Concern.Flag</th></tr>\n",
              "\t<tr><th></th><th scope=col>&lt;chr&gt;</th><th scope=col>&lt;chr&gt;</th><th scope=col>&lt;chr&gt;</th><th scope=col>&lt;chr&gt;</th><th scope=col>&lt;chr&gt;</th><th scope=col>&lt;chr&gt;</th><th scope=col>&lt;int&gt;</th><th scope=col>&lt;chr&gt;</th><th scope=col>&lt;chr&gt;</th><th scope=col>&lt;chr&gt;</th><th scope=col>&lt;chr&gt;</th></tr>\n",
              "</thead>\n",
              "<tbody>\n",
              "\t<tr><th scope=row>1</th><td>587b45d8</td><td>Germany  </td><td>Renewable Energy    </td><td>16/04/2024</td><td>Idea 1</td><td>Sustainable Transport</td><td>231</td><td>Single Contributor </td><td>Pending </td><td>Not Started</td><td>No </td></tr>\n",
              "\t<tr><th scope=row>2</th><td>0d3e8b8e</td><td>Canada   </td><td>Renewable Energy    </td><td>14/01/2024</td><td>Idea 2</td><td>Water Management     </td><td>477</td><td>Cross-Regional Team</td><td>Approved</td><td>In Progress</td><td>No </td></tr>\n",
              "\t<tr><th scope=row>3</th><td>fa012fe7</td><td>France   </td><td>Environmental Policy</td><td>10/01/2025</td><td>Idea 3</td><td>Renewable Energy     </td><td> 48</td><td>Cross-Regional Team</td><td>Approved</td><td>Not Started</td><td>Yes</td></tr>\n",
              "\t<tr><th scope=row>4</th><td>cb8ed680</td><td>Japan    </td><td>Technology          </td><td>24/12/2023</td><td>Idea 4</td><td>Circular Economy     </td><td>330</td><td>Cross-Regional Team</td><td>Approved</td><td>Completed  </td><td>No </td></tr>\n",
              "\t<tr><th scope=row>5</th><td>333fff26</td><td>Australia</td><td>Technology          </td><td>13/02/2025</td><td>Idea 5</td><td>Circular Economy     </td><td>428</td><td>Single Contributor </td><td>Approved</td><td>Not Started</td><td>No </td></tr>\n",
              "\t<tr><th scope=row>6</th><td>a34ebb0f</td><td>India    </td><td>Technology          </td><td>08/09/2024</td><td>Idea 6</td><td>Circular Economy     </td><td>431</td><td>Single Contributor </td><td>Rejected</td><td>Not Started</td><td>No </td></tr>\n",
              "</tbody>\n",
              "</table>\n"
            ],
            "text/markdown": "\nA data.frame: 6 × 11\n\n| <!--/--> | Employee.ID &lt;chr&gt; | Office.Location &lt;chr&gt; | Department &lt;chr&gt; | Idea.Submission.Date &lt;chr&gt; | Idea.Title &lt;chr&gt; | Idea.Category &lt;chr&gt; | Number.of.Votes &lt;int&gt; | Collaboration.Status &lt;chr&gt; | Approval.Status &lt;chr&gt; | Implementation.Status &lt;chr&gt; | Security.Concern.Flag &lt;chr&gt; |\n|---|---|---|---|---|---|---|---|---|---|---|---|\n| 1 | 587b45d8 | Germany   | Renewable Energy     | 16/04/2024 | Idea 1 | Sustainable Transport | 231 | Single Contributor  | Pending  | Not Started | No  |\n| 2 | 0d3e8b8e | Canada    | Renewable Energy     | 14/01/2024 | Idea 2 | Water Management      | 477 | Cross-Regional Team | Approved | In Progress | No  |\n| 3 | fa012fe7 | France    | Environmental Policy | 10/01/2025 | Idea 3 | Renewable Energy      |  48 | Cross-Regional Team | Approved | Not Started | Yes |\n| 4 | cb8ed680 | Japan     | Technology           | 24/12/2023 | Idea 4 | Circular Economy      | 330 | Cross-Regional Team | Approved | Completed   | No  |\n| 5 | 333fff26 | Australia | Technology           | 13/02/2025 | Idea 5 | Circular Economy      | 428 | Single Contributor  | Approved | Not Started | No  |\n| 6 | a34ebb0f | India     | Technology           | 08/09/2024 | Idea 6 | Circular Economy      | 431 | Single Contributor  | Rejected | Not Started | No  |\n\n",
            "text/latex": "A data.frame: 6 × 11\n\\begin{tabular}{r|lllllllllll}\n  & Employee.ID & Office.Location & Department & Idea.Submission.Date & Idea.Title & Idea.Category & Number.of.Votes & Collaboration.Status & Approval.Status & Implementation.Status & Security.Concern.Flag\\\\\n  & <chr> & <chr> & <chr> & <chr> & <chr> & <chr> & <int> & <chr> & <chr> & <chr> & <chr>\\\\\n\\hline\n\t1 & 587b45d8 & Germany   & Renewable Energy     & 16/04/2024 & Idea 1 & Sustainable Transport & 231 & Single Contributor  & Pending  & Not Started & No \\\\\n\t2 & 0d3e8b8e & Canada    & Renewable Energy     & 14/01/2024 & Idea 2 & Water Management      & 477 & Cross-Regional Team & Approved & In Progress & No \\\\\n\t3 & fa012fe7 & France    & Environmental Policy & 10/01/2025 & Idea 3 & Renewable Energy      &  48 & Cross-Regional Team & Approved & Not Started & Yes\\\\\n\t4 & cb8ed680 & Japan     & Technology           & 24/12/2023 & Idea 4 & Circular Economy      & 330 & Cross-Regional Team & Approved & Completed   & No \\\\\n\t5 & 333fff26 & Australia & Technology           & 13/02/2025 & Idea 5 & Circular Economy      & 428 & Single Contributor  & Approved & Not Started & No \\\\\n\t6 & a34ebb0f & India     & Technology           & 08/09/2024 & Idea 6 & Circular Economy      & 431 & Single Contributor  & Rejected & Not Started & No \\\\\n\\end{tabular}\n",
            "text/plain": [
              "  Employee.ID Office.Location Department           Idea.Submission.Date\n",
              "1 587b45d8    Germany         Renewable Energy     16/04/2024          \n",
              "2 0d3e8b8e    Canada          Renewable Energy     14/01/2024          \n",
              "3 fa012fe7    France          Environmental Policy 10/01/2025          \n",
              "4 cb8ed680    Japan           Technology           24/12/2023          \n",
              "5 333fff26    Australia       Technology           13/02/2025          \n",
              "6 a34ebb0f    India           Technology           08/09/2024          \n",
              "  Idea.Title Idea.Category         Number.of.Votes Collaboration.Status\n",
              "1 Idea 1     Sustainable Transport 231             Single Contributor  \n",
              "2 Idea 2     Water Management      477             Cross-Regional Team \n",
              "3 Idea 3     Renewable Energy       48             Cross-Regional Team \n",
              "4 Idea 4     Circular Economy      330             Cross-Regional Team \n",
              "5 Idea 5     Circular Economy      428             Single Contributor  \n",
              "6 Idea 6     Circular Economy      431             Single Contributor  \n",
              "  Approval.Status Implementation.Status Security.Concern.Flag\n",
              "1 Pending         Not Started           No                   \n",
              "2 Approved        In Progress           No                   \n",
              "3 Approved        Not Started           Yes                  \n",
              "4 Approved        Completed             No                   \n",
              "5 Approved        Not Started           No                   \n",
              "6 Rejected        Not Started           No                   "
            ]
          },
          "metadata": {}
        }
      ]
    },
    {
      "cell_type": "markdown",
      "source": [
        "Demostrate how to select insert update and delete records from dataset using R"
      ],
      "metadata": {
        "id": "JFb0m7XImC0m"
      }
    },
    {
      "cell_type": "markdown",
      "source": [
        "**Columns Names**"
      ],
      "metadata": {
        "id": "zHo6grWRqAKC"
      }
    },
    {
      "cell_type": "code",
      "source": [
        "names(df)"
      ],
      "metadata": {
        "colab": {
          "base_uri": "https://localhost:8080/",
          "height": 34
        },
        "id": "-lAq6jOO4C5Z",
        "outputId": "635adb72-5155-40df-b746-2a9b49230740"
      },
      "execution_count": null,
      "outputs": [
        {
          "output_type": "display_data",
          "data": {
            "text/html": [
              "<style>\n",
              ".list-inline {list-style: none; margin:0; padding: 0}\n",
              ".list-inline>li {display: inline-block}\n",
              ".list-inline>li:not(:last-child)::after {content: \"\\00b7\"; padding: 0 .5ex}\n",
              "</style>\n",
              "<ol class=list-inline><li>'Employee.ID'</li><li>'Office.Location'</li><li>'Department'</li><li>'Idea.Submission.Date'</li><li>'Idea.Title'</li><li>'Idea.Category'</li><li>'Number.of.Votes'</li><li>'Collaboration.Status'</li><li>'Approval.Status'</li><li>'Implementation.Status'</li><li>'Security.Concern.Flag'</li></ol>\n"
            ],
            "text/markdown": "1. 'Employee.ID'\n2. 'Office.Location'\n3. 'Department'\n4. 'Idea.Submission.Date'\n5. 'Idea.Title'\n6. 'Idea.Category'\n7. 'Number.of.Votes'\n8. 'Collaboration.Status'\n9. 'Approval.Status'\n10. 'Implementation.Status'\n11. 'Security.Concern.Flag'\n\n\n",
            "text/latex": "\\begin{enumerate*}\n\\item 'Employee.ID'\n\\item 'Office.Location'\n\\item 'Department'\n\\item 'Idea.Submission.Date'\n\\item 'Idea.Title'\n\\item 'Idea.Category'\n\\item 'Number.of.Votes'\n\\item 'Collaboration.Status'\n\\item 'Approval.Status'\n\\item 'Implementation.Status'\n\\item 'Security.Concern.Flag'\n\\end{enumerate*}\n",
            "text/plain": [
              " [1] \"Employee.ID\"           \"Office.Location\"       \"Department\"           \n",
              " [4] \"Idea.Submission.Date\"  \"Idea.Title\"            \"Idea.Category\"        \n",
              " [7] \"Number.of.Votes\"       \"Collaboration.Status\"  \"Approval.Status\"      \n",
              "[10] \"Implementation.Status\" \"Security.Concern.Flag\""
            ]
          },
          "metadata": {}
        }
      ]
    },
    {
      "cell_type": "markdown",
      "source": [
        "**Select statament**"
      ],
      "metadata": {
        "id": "xqqfTSkn42yL"
      }
    },
    {
      "cell_type": "code",
      "source": [
        "best_ideas <- sqldf(\"\n",
        "SELECT `Idea.Category`, `Number.of.Votes`\n",
        "FROM df\n",
        "ORDER BY `Number.of.Votes` DESC LIMIT 5\n",
        "\")\n",
        "\n",
        "print(best_ideas)"
      ],
      "metadata": {
        "colab": {
          "base_uri": "https://localhost:8080/"
        },
        "id": "j2gstszg4SoY",
        "outputId": "5f3e5cc2-2a9c-4dae-941d-f682e1348ca2"
      },
      "execution_count": null,
      "outputs": [
        {
          "output_type": "stream",
          "name": "stdout",
          "text": [
            "          Idea.Category Number.of.Votes\n",
            "1      Renewable Energy             632\n",
            "2      Water Management             500\n",
            "3 Sustainable Transport             500\n",
            "4      Circular Economy             500\n",
            "5      Renewable Energy             500\n"
          ]
        }
      ]
    },
    {
      "cell_type": "markdown",
      "source": [
        "Insert a new row"
      ],
      "metadata": {
        "id": "Qc90h54V5I_T"
      }
    },
    {
      "cell_type": "code",
      "source": [
        "df <- add_row(df,\n",
        "    `Employee.ID` = \"EMP987E123\",\n",
        "    `Office.Location` = \"Milan\",\n",
        "    `Department` = \"Technology\",\n",
        "    `Idea.Submission.Date` = \"2025-03-12\",\n",
        "    `Idea.Title` = \"Smart Solar Panels\",\n",
        "    `Idea.Category` = \"Renewable Energy\",\n",
        "    `Number.of.Votes` = 632,\n",
        "    `Collaboration.Status` = \"Collaborated\",\n",
        "    `Approval.Status` = \"Approved\"\n",
        "  )\n",
        "  tail(df)"
      ],
      "metadata": {
        "id": "lH8Dum_t5StN",
        "colab": {
          "base_uri": "https://localhost:8080/",
          "height": 410
        },
        "collapsed": true,
        "outputId": "04279875-64e1-4d52-bfb8-764a17959c69"
      },
      "execution_count": null,
      "outputs": [
        {
          "output_type": "display_data",
          "data": {
            "text/html": [
              "<table class=\"dataframe\">\n",
              "<caption>A data.frame: 6 × 11</caption>\n",
              "<thead>\n",
              "\t<tr><th></th><th scope=col>Employee.ID</th><th scope=col>Office.Location</th><th scope=col>Department</th><th scope=col>Idea.Submission.Date</th><th scope=col>Idea.Title</th><th scope=col>Idea.Category</th><th scope=col>Number.of.Votes</th><th scope=col>Collaboration.Status</th><th scope=col>Approval.Status</th><th scope=col>Implementation.Status</th><th scope=col>Security.Concern.Flag</th></tr>\n",
              "\t<tr><th></th><th scope=col>&lt;chr&gt;</th><th scope=col>&lt;chr&gt;</th><th scope=col>&lt;chr&gt;</th><th scope=col>&lt;chr&gt;</th><th scope=col>&lt;chr&gt;</th><th scope=col>&lt;chr&gt;</th><th scope=col>&lt;dbl&gt;</th><th scope=col>&lt;chr&gt;</th><th scope=col>&lt;chr&gt;</th><th scope=col>&lt;chr&gt;</th><th scope=col>&lt;chr&gt;</th></tr>\n",
              "</thead>\n",
              "<tbody>\n",
              "\t<tr><th scope=row>2996</th><td>49ba8fa1  </td><td>France</td><td>Technology          </td><td>22/02/2024</td><td>Idea 2996         </td><td>Renewable Energy     </td><td>405</td><td>Single Contributor </td><td>Rejected</td><td>Not Started</td><td>No</td></tr>\n",
              "\t<tr><th scope=row>2997</th><td>3d158062  </td><td>Japan </td><td>Environmental Policy</td><td>12/04/2023</td><td>Idea 2997         </td><td>Sustainable Transport</td><td>212</td><td>Cross-Regional Team</td><td>Pending </td><td>Not Started</td><td>No</td></tr>\n",
              "\t<tr><th scope=row>2998</th><td>a9214134  </td><td>Japan </td><td>Urban Development   </td><td>18/10/2023</td><td>Idea 2998         </td><td>Sustainable Transport</td><td>207</td><td>Single Contributor </td><td>Approved</td><td>Completed  </td><td>No</td></tr>\n",
              "\t<tr><th scope=row>2999</th><td>f2bf1145  </td><td>Japan </td><td>Environmental Policy</td><td>06/10/2024</td><td>Idea 2999         </td><td>Sustainable Transport</td><td>227</td><td>Single Contributor </td><td>Approved</td><td>Completed  </td><td>No</td></tr>\n",
              "\t<tr><th scope=row>3000</th><td>x0x0x0x0x0</td><td>Brazil</td><td>Environmental Policy</td><td>19/12/2024</td><td>Idea 3000         </td><td>Smart Cities         </td><td>264</td><td>Cross-Regional Team</td><td>Pending </td><td>Not Started</td><td>No</td></tr>\n",
              "\t<tr><th scope=row>3001</th><td>EMP987E123</td><td>Milan </td><td>Technology          </td><td>2025-03-12</td><td>Smart Solar Panels</td><td>Renewable Energy     </td><td>632</td><td>Collaborated       </td><td>Approved</td><td>NA         </td><td>NA</td></tr>\n",
              "</tbody>\n",
              "</table>\n"
            ],
            "text/markdown": "\nA data.frame: 6 × 11\n\n| <!--/--> | Employee.ID &lt;chr&gt; | Office.Location &lt;chr&gt; | Department &lt;chr&gt; | Idea.Submission.Date &lt;chr&gt; | Idea.Title &lt;chr&gt; | Idea.Category &lt;chr&gt; | Number.of.Votes &lt;dbl&gt; | Collaboration.Status &lt;chr&gt; | Approval.Status &lt;chr&gt; | Implementation.Status &lt;chr&gt; | Security.Concern.Flag &lt;chr&gt; |\n|---|---|---|---|---|---|---|---|---|---|---|---|\n| 2996 | 49ba8fa1   | France | Technology           | 22/02/2024 | Idea 2996          | Renewable Energy      | 405 | Single Contributor  | Rejected | Not Started | No |\n| 2997 | 3d158062   | Japan  | Environmental Policy | 12/04/2023 | Idea 2997          | Sustainable Transport | 212 | Cross-Regional Team | Pending  | Not Started | No |\n| 2998 | a9214134   | Japan  | Urban Development    | 18/10/2023 | Idea 2998          | Sustainable Transport | 207 | Single Contributor  | Approved | Completed   | No |\n| 2999 | f2bf1145   | Japan  | Environmental Policy | 06/10/2024 | Idea 2999          | Sustainable Transport | 227 | Single Contributor  | Approved | Completed   | No |\n| 3000 | x0x0x0x0x0 | Brazil | Environmental Policy | 19/12/2024 | Idea 3000          | Smart Cities          | 264 | Cross-Regional Team | Pending  | Not Started | No |\n| 3001 | EMP987E123 | Milan  | Technology           | 2025-03-12 | Smart Solar Panels | Renewable Energy      | 632 | Collaborated        | Approved | NA          | NA |\n\n",
            "text/latex": "A data.frame: 6 × 11\n\\begin{tabular}{r|lllllllllll}\n  & Employee.ID & Office.Location & Department & Idea.Submission.Date & Idea.Title & Idea.Category & Number.of.Votes & Collaboration.Status & Approval.Status & Implementation.Status & Security.Concern.Flag\\\\\n  & <chr> & <chr> & <chr> & <chr> & <chr> & <chr> & <dbl> & <chr> & <chr> & <chr> & <chr>\\\\\n\\hline\n\t2996 & 49ba8fa1   & France & Technology           & 22/02/2024 & Idea 2996          & Renewable Energy      & 405 & Single Contributor  & Rejected & Not Started & No\\\\\n\t2997 & 3d158062   & Japan  & Environmental Policy & 12/04/2023 & Idea 2997          & Sustainable Transport & 212 & Cross-Regional Team & Pending  & Not Started & No\\\\\n\t2998 & a9214134   & Japan  & Urban Development    & 18/10/2023 & Idea 2998          & Sustainable Transport & 207 & Single Contributor  & Approved & Completed   & No\\\\\n\t2999 & f2bf1145   & Japan  & Environmental Policy & 06/10/2024 & Idea 2999          & Sustainable Transport & 227 & Single Contributor  & Approved & Completed   & No\\\\\n\t3000 & x0x0x0x0x0 & Brazil & Environmental Policy & 19/12/2024 & Idea 3000          & Smart Cities          & 264 & Cross-Regional Team & Pending  & Not Started & No\\\\\n\t3001 & EMP987E123 & Milan  & Technology           & 2025-03-12 & Smart Solar Panels & Renewable Energy      & 632 & Collaborated        & Approved & NA          & NA\\\\\n\\end{tabular}\n",
            "text/plain": [
              "     Employee.ID Office.Location Department           Idea.Submission.Date\n",
              "2996 49ba8fa1    France          Technology           22/02/2024          \n",
              "2997 3d158062    Japan           Environmental Policy 12/04/2023          \n",
              "2998 a9214134    Japan           Urban Development    18/10/2023          \n",
              "2999 f2bf1145    Japan           Environmental Policy 06/10/2024          \n",
              "3000 x0x0x0x0x0  Brazil          Environmental Policy 19/12/2024          \n",
              "3001 EMP987E123  Milan           Technology           2025-03-12          \n",
              "     Idea.Title         Idea.Category         Number.of.Votes\n",
              "2996 Idea 2996          Renewable Energy      405            \n",
              "2997 Idea 2997          Sustainable Transport 212            \n",
              "2998 Idea 2998          Sustainable Transport 207            \n",
              "2999 Idea 2999          Sustainable Transport 227            \n",
              "3000 Idea 3000          Smart Cities          264            \n",
              "3001 Smart Solar Panels Renewable Energy      632            \n",
              "     Collaboration.Status Approval.Status Implementation.Status\n",
              "2996 Single Contributor   Rejected        Not Started          \n",
              "2997 Cross-Regional Team  Pending         Not Started          \n",
              "2998 Single Contributor   Approved        Completed            \n",
              "2999 Single Contributor   Approved        Completed            \n",
              "3000 Cross-Regional Team  Pending         Not Started          \n",
              "3001 Collaborated         Approved        NA                   \n",
              "     Security.Concern.Flag\n",
              "2996 No                   \n",
              "2997 No                   \n",
              "2998 No                   \n",
              "2999 No                   \n",
              "3000 No                   \n",
              "3001 NA                   "
            ]
          },
          "metadata": {}
        }
      ]
    },
    {
      "cell_type": "markdown",
      "source": [
        "Delete data"
      ],
      "metadata": {
        "id": "ybaMiEYz7Uug"
      }
    },
    {
      "cell_type": "code",
      "source": [
        "\n",
        "\n",
        "# Run the DELETE query\n",
        "df <- df %>%\n",
        "  dplyr::filter(`Employee.ID` != \"EMP987E123\")\n",
        "  \"select * from df\"\n",
        "\n",
        "# Retrieve the updated data frame\n",
        "\n",
        "tail(df)\n",
        "\n"
      ],
      "metadata": {
        "colab": {
          "base_uri": "https://localhost:8080/",
          "height": 427
        },
        "id": "F_N_nR7ibNGl",
        "outputId": "8092afeb-375c-430a-9341-a2850b687202",
        "collapsed": true
      },
      "execution_count": null,
      "outputs": [
        {
          "output_type": "display_data",
          "data": {
            "text/html": [
              "'select * from df'"
            ],
            "text/markdown": "'select * from df'",
            "text/latex": "'select * from df'",
            "text/plain": [
              "[1] \"select * from df\""
            ]
          },
          "metadata": {}
        },
        {
          "output_type": "display_data",
          "data": {
            "text/html": [
              "<table class=\"dataframe\">\n",
              "<caption>A data.frame: 6 × 11</caption>\n",
              "<thead>\n",
              "\t<tr><th></th><th scope=col>Employee.ID</th><th scope=col>Office.Location</th><th scope=col>Department</th><th scope=col>Idea.Submission.Date</th><th scope=col>Idea.Title</th><th scope=col>Idea.Category</th><th scope=col>Number.of.Votes</th><th scope=col>Collaboration.Status</th><th scope=col>Approval.Status</th><th scope=col>Implementation.Status</th><th scope=col>Security.Concern.Flag</th></tr>\n",
              "\t<tr><th></th><th scope=col>&lt;chr&gt;</th><th scope=col>&lt;chr&gt;</th><th scope=col>&lt;chr&gt;</th><th scope=col>&lt;chr&gt;</th><th scope=col>&lt;chr&gt;</th><th scope=col>&lt;chr&gt;</th><th scope=col>&lt;dbl&gt;</th><th scope=col>&lt;chr&gt;</th><th scope=col>&lt;chr&gt;</th><th scope=col>&lt;chr&gt;</th><th scope=col>&lt;chr&gt;</th></tr>\n",
              "</thead>\n",
              "<tbody>\n",
              "\t<tr><th scope=row>2995</th><td>2440020 </td><td>Mexico</td><td>Environmental Policy</td><td>26/10/2023</td><td>Idea 2995</td><td>Sustainable Transport</td><td>255</td><td>Single Contributor </td><td>Pending </td><td>Not Started</td><td>No</td></tr>\n",
              "\t<tr><th scope=row>2996</th><td>49ba8fa1</td><td>France</td><td>Technology          </td><td>22/02/2024</td><td>Idea 2996</td><td>Renewable Energy     </td><td>405</td><td>Single Contributor </td><td>Rejected</td><td>Not Started</td><td>No</td></tr>\n",
              "\t<tr><th scope=row>2997</th><td>3d158062</td><td>Japan </td><td>Environmental Policy</td><td>12/04/2023</td><td>Idea 2997</td><td>Sustainable Transport</td><td>212</td><td>Cross-Regional Team</td><td>Pending </td><td>Not Started</td><td>No</td></tr>\n",
              "\t<tr><th scope=row>2998</th><td>a9214134</td><td>Japan </td><td>Urban Development   </td><td>18/10/2023</td><td>Idea 2998</td><td>Sustainable Transport</td><td>207</td><td>Single Contributor </td><td>Approved</td><td>Completed  </td><td>No</td></tr>\n",
              "\t<tr><th scope=row>2999</th><td>f2bf1145</td><td>Japan </td><td>Environmental Policy</td><td>06/10/2024</td><td>Idea 2999</td><td>Sustainable Transport</td><td>227</td><td>Single Contributor </td><td>Approved</td><td>Completed  </td><td>No</td></tr>\n",
              "\t<tr><th scope=row>3000</th><td>010a6890</td><td>Brazil</td><td>Environmental Policy</td><td>19/12/2024</td><td>Idea 3000</td><td>Smart Cities         </td><td>264</td><td>Cross-Regional Team</td><td>Pending </td><td>Not Started</td><td>No</td></tr>\n",
              "</tbody>\n",
              "</table>\n"
            ],
            "text/markdown": "\nA data.frame: 6 × 11\n\n| <!--/--> | Employee.ID &lt;chr&gt; | Office.Location &lt;chr&gt; | Department &lt;chr&gt; | Idea.Submission.Date &lt;chr&gt; | Idea.Title &lt;chr&gt; | Idea.Category &lt;chr&gt; | Number.of.Votes &lt;dbl&gt; | Collaboration.Status &lt;chr&gt; | Approval.Status &lt;chr&gt; | Implementation.Status &lt;chr&gt; | Security.Concern.Flag &lt;chr&gt; |\n|---|---|---|---|---|---|---|---|---|---|---|---|\n| 2995 | 2440020  | Mexico | Environmental Policy | 26/10/2023 | Idea 2995 | Sustainable Transport | 255 | Single Contributor  | Pending  | Not Started | No |\n| 2996 | 49ba8fa1 | France | Technology           | 22/02/2024 | Idea 2996 | Renewable Energy      | 405 | Single Contributor  | Rejected | Not Started | No |\n| 2997 | 3d158062 | Japan  | Environmental Policy | 12/04/2023 | Idea 2997 | Sustainable Transport | 212 | Cross-Regional Team | Pending  | Not Started | No |\n| 2998 | a9214134 | Japan  | Urban Development    | 18/10/2023 | Idea 2998 | Sustainable Transport | 207 | Single Contributor  | Approved | Completed   | No |\n| 2999 | f2bf1145 | Japan  | Environmental Policy | 06/10/2024 | Idea 2999 | Sustainable Transport | 227 | Single Contributor  | Approved | Completed   | No |\n| 3000 | 010a6890 | Brazil | Environmental Policy | 19/12/2024 | Idea 3000 | Smart Cities          | 264 | Cross-Regional Team | Pending  | Not Started | No |\n\n",
            "text/latex": "A data.frame: 6 × 11\n\\begin{tabular}{r|lllllllllll}\n  & Employee.ID & Office.Location & Department & Idea.Submission.Date & Idea.Title & Idea.Category & Number.of.Votes & Collaboration.Status & Approval.Status & Implementation.Status & Security.Concern.Flag\\\\\n  & <chr> & <chr> & <chr> & <chr> & <chr> & <chr> & <dbl> & <chr> & <chr> & <chr> & <chr>\\\\\n\\hline\n\t2995 & 2440020  & Mexico & Environmental Policy & 26/10/2023 & Idea 2995 & Sustainable Transport & 255 & Single Contributor  & Pending  & Not Started & No\\\\\n\t2996 & 49ba8fa1 & France & Technology           & 22/02/2024 & Idea 2996 & Renewable Energy      & 405 & Single Contributor  & Rejected & Not Started & No\\\\\n\t2997 & 3d158062 & Japan  & Environmental Policy & 12/04/2023 & Idea 2997 & Sustainable Transport & 212 & Cross-Regional Team & Pending  & Not Started & No\\\\\n\t2998 & a9214134 & Japan  & Urban Development    & 18/10/2023 & Idea 2998 & Sustainable Transport & 207 & Single Contributor  & Approved & Completed   & No\\\\\n\t2999 & f2bf1145 & Japan  & Environmental Policy & 06/10/2024 & Idea 2999 & Sustainable Transport & 227 & Single Contributor  & Approved & Completed   & No\\\\\n\t3000 & 010a6890 & Brazil & Environmental Policy & 19/12/2024 & Idea 3000 & Smart Cities          & 264 & Cross-Regional Team & Pending  & Not Started & No\\\\\n\\end{tabular}\n",
            "text/plain": [
              "     Employee.ID Office.Location Department           Idea.Submission.Date\n",
              "2995 2440020     Mexico          Environmental Policy 26/10/2023          \n",
              "2996 49ba8fa1    France          Technology           22/02/2024          \n",
              "2997 3d158062    Japan           Environmental Policy 12/04/2023          \n",
              "2998 a9214134    Japan           Urban Development    18/10/2023          \n",
              "2999 f2bf1145    Japan           Environmental Policy 06/10/2024          \n",
              "3000 010a6890    Brazil          Environmental Policy 19/12/2024          \n",
              "     Idea.Title Idea.Category         Number.of.Votes Collaboration.Status\n",
              "2995 Idea 2995  Sustainable Transport 255             Single Contributor  \n",
              "2996 Idea 2996  Renewable Energy      405             Single Contributor  \n",
              "2997 Idea 2997  Sustainable Transport 212             Cross-Regional Team \n",
              "2998 Idea 2998  Sustainable Transport 207             Single Contributor  \n",
              "2999 Idea 2999  Sustainable Transport 227             Single Contributor  \n",
              "3000 Idea 3000  Smart Cities          264             Cross-Regional Team \n",
              "     Approval.Status Implementation.Status Security.Concern.Flag\n",
              "2995 Pending         Not Started           No                   \n",
              "2996 Rejected        Not Started           No                   \n",
              "2997 Pending         Not Started           No                   \n",
              "2998 Approved        Completed             No                   \n",
              "2999 Approved        Completed             No                   \n",
              "3000 Pending         Not Started           No                   "
            ]
          },
          "metadata": {}
        }
      ]
    },
    {
      "cell_type": "markdown",
      "source": [
        "Updating function"
      ],
      "metadata": {
        "id": "v3CsDsQ_sN3b"
      }
    },
    {
      "cell_type": "code",
      "source": [
        "df <- df %>%\n",
        "  mutate(`Employee.ID` = replace(`Employee.ID`, `Employee.ID` == '010a6890', 'x0x0x0x0x0'))\n",
        "tail(df)"
      ],
      "metadata": {
        "colab": {
          "base_uri": "https://localhost:8080/",
          "height": 410
        },
        "collapsed": true,
        "id": "fxa15kvnsQMm",
        "outputId": "f3c182f8-4eef-4160-b36a-633ade4f1720"
      },
      "execution_count": null,
      "outputs": [
        {
          "output_type": "display_data",
          "data": {
            "text/html": [
              "<table class=\"dataframe\">\n",
              "<caption>A data.frame: 6 × 11</caption>\n",
              "<thead>\n",
              "\t<tr><th></th><th scope=col>Employee.ID</th><th scope=col>Office.Location</th><th scope=col>Department</th><th scope=col>Idea.Submission.Date</th><th scope=col>Idea.Title</th><th scope=col>Idea.Category</th><th scope=col>Number.of.Votes</th><th scope=col>Collaboration.Status</th><th scope=col>Approval.Status</th><th scope=col>Implementation.Status</th><th scope=col>Security.Concern.Flag</th></tr>\n",
              "\t<tr><th></th><th scope=col>&lt;chr&gt;</th><th scope=col>&lt;chr&gt;</th><th scope=col>&lt;chr&gt;</th><th scope=col>&lt;chr&gt;</th><th scope=col>&lt;chr&gt;</th><th scope=col>&lt;chr&gt;</th><th scope=col>&lt;dbl&gt;</th><th scope=col>&lt;chr&gt;</th><th scope=col>&lt;chr&gt;</th><th scope=col>&lt;chr&gt;</th><th scope=col>&lt;chr&gt;</th></tr>\n",
              "</thead>\n",
              "<tbody>\n",
              "\t<tr><th scope=row>2996</th><td>49ba8fa1  </td><td>France</td><td>Technology          </td><td>22/02/2024</td><td>Idea 2996         </td><td>Renewable Energy     </td><td>405</td><td>Single Contributor </td><td>Rejected</td><td>Not Started</td><td>No</td></tr>\n",
              "\t<tr><th scope=row>2997</th><td>3d158062  </td><td>Japan </td><td>Environmental Policy</td><td>12/04/2023</td><td>Idea 2997         </td><td>Sustainable Transport</td><td>212</td><td>Cross-Regional Team</td><td>Pending </td><td>Not Started</td><td>No</td></tr>\n",
              "\t<tr><th scope=row>2998</th><td>a9214134  </td><td>Japan </td><td>Urban Development   </td><td>18/10/2023</td><td>Idea 2998         </td><td>Sustainable Transport</td><td>207</td><td>Single Contributor </td><td>Approved</td><td>Completed  </td><td>No</td></tr>\n",
              "\t<tr><th scope=row>2999</th><td>f2bf1145  </td><td>Japan </td><td>Environmental Policy</td><td>06/10/2024</td><td>Idea 2999         </td><td>Sustainable Transport</td><td>227</td><td>Single Contributor </td><td>Approved</td><td>Completed  </td><td>No</td></tr>\n",
              "\t<tr><th scope=row>3000</th><td>x0x0x0x0x0</td><td>Brazil</td><td>Environmental Policy</td><td>19/12/2024</td><td>Idea 3000         </td><td>Smart Cities         </td><td>264</td><td>Cross-Regional Team</td><td>Pending </td><td>Not Started</td><td>No</td></tr>\n",
              "\t<tr><th scope=row>3001</th><td>EMP987E123</td><td>Milan </td><td>Technology          </td><td>2025-03-12</td><td>Smart Solar Panels</td><td>Renewable Energy     </td><td>632</td><td>Collaborated       </td><td>Approved</td><td>NA         </td><td>NA</td></tr>\n",
              "</tbody>\n",
              "</table>\n"
            ],
            "text/markdown": "\nA data.frame: 6 × 11\n\n| <!--/--> | Employee.ID &lt;chr&gt; | Office.Location &lt;chr&gt; | Department &lt;chr&gt; | Idea.Submission.Date &lt;chr&gt; | Idea.Title &lt;chr&gt; | Idea.Category &lt;chr&gt; | Number.of.Votes &lt;dbl&gt; | Collaboration.Status &lt;chr&gt; | Approval.Status &lt;chr&gt; | Implementation.Status &lt;chr&gt; | Security.Concern.Flag &lt;chr&gt; |\n|---|---|---|---|---|---|---|---|---|---|---|---|\n| 2996 | 49ba8fa1   | France | Technology           | 22/02/2024 | Idea 2996          | Renewable Energy      | 405 | Single Contributor  | Rejected | Not Started | No |\n| 2997 | 3d158062   | Japan  | Environmental Policy | 12/04/2023 | Idea 2997          | Sustainable Transport | 212 | Cross-Regional Team | Pending  | Not Started | No |\n| 2998 | a9214134   | Japan  | Urban Development    | 18/10/2023 | Idea 2998          | Sustainable Transport | 207 | Single Contributor  | Approved | Completed   | No |\n| 2999 | f2bf1145   | Japan  | Environmental Policy | 06/10/2024 | Idea 2999          | Sustainable Transport | 227 | Single Contributor  | Approved | Completed   | No |\n| 3000 | x0x0x0x0x0 | Brazil | Environmental Policy | 19/12/2024 | Idea 3000          | Smart Cities          | 264 | Cross-Regional Team | Pending  | Not Started | No |\n| 3001 | EMP987E123 | Milan  | Technology           | 2025-03-12 | Smart Solar Panels | Renewable Energy      | 632 | Collaborated        | Approved | NA          | NA |\n\n",
            "text/latex": "A data.frame: 6 × 11\n\\begin{tabular}{r|lllllllllll}\n  & Employee.ID & Office.Location & Department & Idea.Submission.Date & Idea.Title & Idea.Category & Number.of.Votes & Collaboration.Status & Approval.Status & Implementation.Status & Security.Concern.Flag\\\\\n  & <chr> & <chr> & <chr> & <chr> & <chr> & <chr> & <dbl> & <chr> & <chr> & <chr> & <chr>\\\\\n\\hline\n\t2996 & 49ba8fa1   & France & Technology           & 22/02/2024 & Idea 2996          & Renewable Energy      & 405 & Single Contributor  & Rejected & Not Started & No\\\\\n\t2997 & 3d158062   & Japan  & Environmental Policy & 12/04/2023 & Idea 2997          & Sustainable Transport & 212 & Cross-Regional Team & Pending  & Not Started & No\\\\\n\t2998 & a9214134   & Japan  & Urban Development    & 18/10/2023 & Idea 2998          & Sustainable Transport & 207 & Single Contributor  & Approved & Completed   & No\\\\\n\t2999 & f2bf1145   & Japan  & Environmental Policy & 06/10/2024 & Idea 2999          & Sustainable Transport & 227 & Single Contributor  & Approved & Completed   & No\\\\\n\t3000 & x0x0x0x0x0 & Brazil & Environmental Policy & 19/12/2024 & Idea 3000          & Smart Cities          & 264 & Cross-Regional Team & Pending  & Not Started & No\\\\\n\t3001 & EMP987E123 & Milan  & Technology           & 2025-03-12 & Smart Solar Panels & Renewable Energy      & 632 & Collaborated        & Approved & NA          & NA\\\\\n\\end{tabular}\n",
            "text/plain": [
              "     Employee.ID Office.Location Department           Idea.Submission.Date\n",
              "2996 49ba8fa1    France          Technology           22/02/2024          \n",
              "2997 3d158062    Japan           Environmental Policy 12/04/2023          \n",
              "2998 a9214134    Japan           Urban Development    18/10/2023          \n",
              "2999 f2bf1145    Japan           Environmental Policy 06/10/2024          \n",
              "3000 x0x0x0x0x0  Brazil          Environmental Policy 19/12/2024          \n",
              "3001 EMP987E123  Milan           Technology           2025-03-12          \n",
              "     Idea.Title         Idea.Category         Number.of.Votes\n",
              "2996 Idea 2996          Renewable Energy      405            \n",
              "2997 Idea 2997          Sustainable Transport 212            \n",
              "2998 Idea 2998          Sustainable Transport 207            \n",
              "2999 Idea 2999          Sustainable Transport 227            \n",
              "3000 Idea 3000          Smart Cities          264            \n",
              "3001 Smart Solar Panels Renewable Energy      632            \n",
              "     Collaboration.Status Approval.Status Implementation.Status\n",
              "2996 Single Contributor   Rejected        Not Started          \n",
              "2997 Cross-Regional Team  Pending         Not Started          \n",
              "2998 Single Contributor   Approved        Completed            \n",
              "2999 Single Contributor   Approved        Completed            \n",
              "3000 Cross-Regional Team  Pending         Not Started          \n",
              "3001 Collaborated         Approved        NA                   \n",
              "     Security.Concern.Flag\n",
              "2996 No                   \n",
              "2997 No                   \n",
              "2998 No                   \n",
              "2999 No                   \n",
              "3000 No                   \n",
              "3001 NA                   "
            ]
          },
          "metadata": {}
        }
      ]
    },
    {
      "cell_type": "markdown",
      "source": [
        "Aggregate functions"
      ],
      "metadata": {
        "id": "sOWWXo34-K6x"
      }
    },
    {
      "cell_type": "code",
      "source": [
        "# Submissions by month (across all years)\n",
        "monthly_submissions <- df %>%\n",
        "  group_by(Idea.Submission.Date) %>%\n",
        "  summarise(count = n(), avg_votes = mean(Number.of.Votes))\n",
        "\n",
        "tail(monthly_submissions)"
      ],
      "metadata": {
        "colab": {
          "base_uri": "https://localhost:8080/",
          "height": 72
        },
        "id": "X2gIG6Ww-NwT",
        "outputId": "7bd2716c-36ba-4afe-c30b-d5810bcebfe8"
      },
      "execution_count": 1,
      "outputs": [
        {
          "output_type": "error",
          "ename": "ERROR",
          "evalue": "Error in df %>% group_by(Idea.Submission.Date) %>% summarise(count = n(), : could not find function \"%>%\"\n",
          "traceback": [
            "Error in df %>% group_by(Idea.Submission.Date) %>% summarise(count = n(), : could not find function \"%>%\"\nTraceback:\n"
          ]
        }
      ]
    }
  ]
}