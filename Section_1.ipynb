{
  "nbformat": 4,
  "nbformat_minor": 0,
  "metadata": {
    "colab": {
      "provenance": [],
      "gpuType": "T4",
      "authorship_tag": "ABX9TyN5/7Z3oa5BR1+1gtIMD7ZZ",
      "include_colab_link": true
    },
    "kernelspec": {
      "name": "ir",
      "display_name": "R"
    },
    "language_info": {
      "name": "R"
    }
  },
  "cells": [
    {
      "cell_type": "markdown",
      "metadata": {
        "id": "view-in-github",
        "colab_type": "text"
      },
      "source": [
        "<a href=\"https://colab.research.google.com/github/n3xtss/CourseWork/blob/main/Section_1.ipynb\" target=\"_parent\"><img src=\"https://colab.research.google.com/assets/colab-badge.svg\" alt=\"Open In Colab\"/></a>"
      ]
    },
    {
      "cell_type": "code",
      "source": [
        "# Install necessary packages\n",
        "install.packages(\"sqldf\")\n",
        "install.packages(\"dplyr\")\n",
        "install.packages(\"ggplot2\")"
      ],
      "metadata": {
        "colab": {
          "base_uri": "https://localhost:8080/"
        },
        "collapsed": true,
        "id": "gCFH6_OxmrAN",
        "outputId": "3baf083b-80b3-42d4-b7d6-1e64dcba4543"
      },
      "execution_count": 3,
      "outputs": [
        {
          "output_type": "stream",
          "name": "stderr",
          "text": [
            "Installing package into ‘/usr/local/lib/R/site-library’\n",
            "(as ‘lib’ is unspecified)\n",
            "\n",
            "also installing the dependencies ‘plogr’, ‘gsubfn’, ‘proto’, ‘RSQLite’, ‘chron’\n",
            "\n",
            "\n",
            "Installing package into ‘/usr/local/lib/R/site-library’\n",
            "(as ‘lib’ is unspecified)\n",
            "\n",
            "Installing package into ‘/usr/local/lib/R/site-library’\n",
            "(as ‘lib’ is unspecified)\n",
            "\n"
          ]
        }
      ]
    },
    {
      "cell_type": "code",
      "source": [
        "# Load libraries\n",
        "library(sqldf)\n",
        "library(dplyr)\n",
        "library(ggplot2)"
      ],
      "metadata": {
        "colab": {
          "base_uri": "https://localhost:8080/"
        },
        "collapsed": true,
        "id": "nCYinJWemvXz",
        "outputId": "f4f480fa-fa12-417f-8df3-b4b8be9633ec"
      },
      "execution_count": 4,
      "outputs": [
        {
          "output_type": "stream",
          "name": "stderr",
          "text": [
            "Loading required package: gsubfn\n",
            "\n",
            "Loading required package: proto\n",
            "\n",
            "Warning message:\n",
            "“no DISPLAY variable so Tk is not available”\n",
            "Loading required package: RSQLite\n",
            "\n",
            "\n",
            "Attaching package: ‘dplyr’\n",
            "\n",
            "\n",
            "The following objects are masked from ‘package:stats’:\n",
            "\n",
            "    filter, lag\n",
            "\n",
            "\n",
            "The following objects are masked from ‘package:base’:\n",
            "\n",
            "    intersect, setdiff, setequal, union\n",
            "\n",
            "\n"
          ]
        }
      ]
    },
    {
      "cell_type": "code",
      "source": [
        "#Step 1; Load the dataset from github\n",
        "\n",
        "# Read CSV from GitHub\n",
        "url <- \"https://raw.githubusercontent.com/n3xtss/CourseWork/refs/heads/main/greenfuture_ideas_dataset.csv\"\n",
        "data <- read.csv(url)\n",
        "\n",
        "# Preview\n",
        "head(data)"
      ],
      "metadata": {
        "colab": {
          "base_uri": "https://localhost:8080/",
          "height": 286
        },
        "collapsed": true,
        "id": "QIZORs0gm3I7",
        "outputId": "02696760-b983-4e28-bc1f-66e520336d08"
      },
      "execution_count": 5,
      "outputs": [
        {
          "output_type": "display_data",
          "data": {
            "text/html": [
              "<table class=\"dataframe\">\n",
              "<caption>A data.frame: 6 × 11</caption>\n",
              "<thead>\n",
              "\t<tr><th></th><th scope=col>Employee.ID</th><th scope=col>Office.Location</th><th scope=col>Department</th><th scope=col>Idea.Submission.Date</th><th scope=col>Idea.Title</th><th scope=col>Idea.Category</th><th scope=col>Number.of.Votes</th><th scope=col>Collaboration.Status</th><th scope=col>Approval.Status</th><th scope=col>Implementation.Status</th><th scope=col>Security.Concern.Flag</th></tr>\n",
              "\t<tr><th></th><th scope=col>&lt;chr&gt;</th><th scope=col>&lt;chr&gt;</th><th scope=col>&lt;chr&gt;</th><th scope=col>&lt;chr&gt;</th><th scope=col>&lt;chr&gt;</th><th scope=col>&lt;chr&gt;</th><th scope=col>&lt;int&gt;</th><th scope=col>&lt;chr&gt;</th><th scope=col>&lt;chr&gt;</th><th scope=col>&lt;chr&gt;</th><th scope=col>&lt;chr&gt;</th></tr>\n",
              "</thead>\n",
              "<tbody>\n",
              "\t<tr><th scope=row>1</th><td>587b45d8</td><td>Germany  </td><td>Renewable Energy    </td><td>16/04/2024</td><td>Idea 1</td><td>Sustainable Transport</td><td>231</td><td>Single Contributor </td><td>Pending </td><td>Not Started</td><td>No </td></tr>\n",
              "\t<tr><th scope=row>2</th><td>0d3e8b8e</td><td>Canada   </td><td>Renewable Energy    </td><td>14/01/2024</td><td>Idea 2</td><td>Water Management     </td><td>477</td><td>Cross-Regional Team</td><td>Approved</td><td>In Progress</td><td>No </td></tr>\n",
              "\t<tr><th scope=row>3</th><td>fa012fe7</td><td>France   </td><td>Environmental Policy</td><td>10/01/2025</td><td>Idea 3</td><td>Renewable Energy     </td><td> 48</td><td>Cross-Regional Team</td><td>Approved</td><td>Not Started</td><td>Yes</td></tr>\n",
              "\t<tr><th scope=row>4</th><td>cb8ed680</td><td>Japan    </td><td>Technology          </td><td>24/12/2023</td><td>Idea 4</td><td>Circular Economy     </td><td>330</td><td>Cross-Regional Team</td><td>Approved</td><td>Completed  </td><td>No </td></tr>\n",
              "\t<tr><th scope=row>5</th><td>333fff26</td><td>Australia</td><td>Technology          </td><td>13/02/2025</td><td>Idea 5</td><td>Circular Economy     </td><td>428</td><td>Single Contributor </td><td>Approved</td><td>Not Started</td><td>No </td></tr>\n",
              "\t<tr><th scope=row>6</th><td>a34ebb0f</td><td>India    </td><td>Technology          </td><td>08/09/2024</td><td>Idea 6</td><td>Circular Economy     </td><td>431</td><td>Single Contributor </td><td>Rejected</td><td>Not Started</td><td>No </td></tr>\n",
              "</tbody>\n",
              "</table>\n"
            ],
            "text/markdown": "\nA data.frame: 6 × 11\n\n| <!--/--> | Employee.ID &lt;chr&gt; | Office.Location &lt;chr&gt; | Department &lt;chr&gt; | Idea.Submission.Date &lt;chr&gt; | Idea.Title &lt;chr&gt; | Idea.Category &lt;chr&gt; | Number.of.Votes &lt;int&gt; | Collaboration.Status &lt;chr&gt; | Approval.Status &lt;chr&gt; | Implementation.Status &lt;chr&gt; | Security.Concern.Flag &lt;chr&gt; |\n|---|---|---|---|---|---|---|---|---|---|---|---|\n| 1 | 587b45d8 | Germany   | Renewable Energy     | 16/04/2024 | Idea 1 | Sustainable Transport | 231 | Single Contributor  | Pending  | Not Started | No  |\n| 2 | 0d3e8b8e | Canada    | Renewable Energy     | 14/01/2024 | Idea 2 | Water Management      | 477 | Cross-Regional Team | Approved | In Progress | No  |\n| 3 | fa012fe7 | France    | Environmental Policy | 10/01/2025 | Idea 3 | Renewable Energy      |  48 | Cross-Regional Team | Approved | Not Started | Yes |\n| 4 | cb8ed680 | Japan     | Technology           | 24/12/2023 | Idea 4 | Circular Economy      | 330 | Cross-Regional Team | Approved | Completed   | No  |\n| 5 | 333fff26 | Australia | Technology           | 13/02/2025 | Idea 5 | Circular Economy      | 428 | Single Contributor  | Approved | Not Started | No  |\n| 6 | a34ebb0f | India     | Technology           | 08/09/2024 | Idea 6 | Circular Economy      | 431 | Single Contributor  | Rejected | Not Started | No  |\n\n",
            "text/latex": "A data.frame: 6 × 11\n\\begin{tabular}{r|lllllllllll}\n  & Employee.ID & Office.Location & Department & Idea.Submission.Date & Idea.Title & Idea.Category & Number.of.Votes & Collaboration.Status & Approval.Status & Implementation.Status & Security.Concern.Flag\\\\\n  & <chr> & <chr> & <chr> & <chr> & <chr> & <chr> & <int> & <chr> & <chr> & <chr> & <chr>\\\\\n\\hline\n\t1 & 587b45d8 & Germany   & Renewable Energy     & 16/04/2024 & Idea 1 & Sustainable Transport & 231 & Single Contributor  & Pending  & Not Started & No \\\\\n\t2 & 0d3e8b8e & Canada    & Renewable Energy     & 14/01/2024 & Idea 2 & Water Management      & 477 & Cross-Regional Team & Approved & In Progress & No \\\\\n\t3 & fa012fe7 & France    & Environmental Policy & 10/01/2025 & Idea 3 & Renewable Energy      &  48 & Cross-Regional Team & Approved & Not Started & Yes\\\\\n\t4 & cb8ed680 & Japan     & Technology           & 24/12/2023 & Idea 4 & Circular Economy      & 330 & Cross-Regional Team & Approved & Completed   & No \\\\\n\t5 & 333fff26 & Australia & Technology           & 13/02/2025 & Idea 5 & Circular Economy      & 428 & Single Contributor  & Approved & Not Started & No \\\\\n\t6 & a34ebb0f & India     & Technology           & 08/09/2024 & Idea 6 & Circular Economy      & 431 & Single Contributor  & Rejected & Not Started & No \\\\\n\\end{tabular}\n",
            "text/plain": [
              "  Employee.ID Office.Location Department           Idea.Submission.Date\n",
              "1 587b45d8    Germany         Renewable Energy     16/04/2024          \n",
              "2 0d3e8b8e    Canada          Renewable Energy     14/01/2024          \n",
              "3 fa012fe7    France          Environmental Policy 10/01/2025          \n",
              "4 cb8ed680    Japan           Technology           24/12/2023          \n",
              "5 333fff26    Australia       Technology           13/02/2025          \n",
              "6 a34ebb0f    India           Technology           08/09/2024          \n",
              "  Idea.Title Idea.Category         Number.of.Votes Collaboration.Status\n",
              "1 Idea 1     Sustainable Transport 231             Single Contributor  \n",
              "2 Idea 2     Water Management      477             Cross-Regional Team \n",
              "3 Idea 3     Renewable Energy       48             Cross-Regional Team \n",
              "4 Idea 4     Circular Economy      330             Cross-Regional Team \n",
              "5 Idea 5     Circular Economy      428             Single Contributor  \n",
              "6 Idea 6     Circular Economy      431             Single Contributor  \n",
              "  Approval.Status Implementation.Status Security.Concern.Flag\n",
              "1 Pending         Not Started           No                   \n",
              "2 Approved        In Progress           No                   \n",
              "3 Approved        Not Started           Yes                  \n",
              "4 Approved        Completed             No                   \n",
              "5 Approved        Not Started           No                   \n",
              "6 Rejected        Not Started           No                   "
            ]
          },
          "metadata": {}
        }
      ]
    },
    {
      "cell_type": "code",
      "source": [
        "#Step 2; SQL queries\n",
        "\n",
        "# Query 1: Select approved ideas that are not a security concern and have already started\n",
        "approved <- sqldf(\"SELECT * FROM data\n",
        "                  WHERE `Approval.Status` = 'Approved' AND `Security.Concern.Flag` = 'No' AND `Implementation.Status` != 'Not Started'\n",
        "                  ORDER BY `Number.of.Votes` DESC\")\n",
        "\n",
        "\n",
        "# Query 2: Get top 5 ideas with most votes that have been approved and order by the number of votes\n",
        "top5ideas <- sqldf(\"SELECT * FROM data\n",
        "                    WHERE `Office.Location` != 'China' AND `Approval.Status` = 'Approved'\n",
        "                    ORDER BY `Number.of.Votes` DESC \")\n",
        "\n",
        "head(approved)\n",
        "head(top5ideas)"
      ],
      "metadata": {
        "colab": {
          "base_uri": "https://localhost:8080/",
          "height": 555
        },
        "collapsed": true,
        "id": "k1L8ysh0sAn5",
        "outputId": "8b05b26a-68f3-453e-c45a-c91f0afe7ae2"
      },
      "execution_count": 7,
      "outputs": [
        {
          "output_type": "display_data",
          "data": {
            "text/html": [
              "<table class=\"dataframe\">\n",
              "<caption>A data.frame: 6 × 11</caption>\n",
              "<thead>\n",
              "\t<tr><th></th><th scope=col>Employee.ID</th><th scope=col>Office.Location</th><th scope=col>Department</th><th scope=col>Idea.Submission.Date</th><th scope=col>Idea.Title</th><th scope=col>Idea.Category</th><th scope=col>Number.of.Votes</th><th scope=col>Collaboration.Status</th><th scope=col>Approval.Status</th><th scope=col>Implementation.Status</th><th scope=col>Security.Concern.Flag</th></tr>\n",
              "\t<tr><th></th><th scope=col>&lt;chr&gt;</th><th scope=col>&lt;chr&gt;</th><th scope=col>&lt;chr&gt;</th><th scope=col>&lt;chr&gt;</th><th scope=col>&lt;chr&gt;</th><th scope=col>&lt;chr&gt;</th><th scope=col>&lt;int&gt;</th><th scope=col>&lt;chr&gt;</th><th scope=col>&lt;chr&gt;</th><th scope=col>&lt;chr&gt;</th><th scope=col>&lt;chr&gt;</th></tr>\n",
              "</thead>\n",
              "<tbody>\n",
              "\t<tr><th scope=row>1</th><td>de5ed43f</td><td>USA         </td><td>Technology       </td><td>09/03/2024</td><td>Idea 2310</td><td>Renewable Energy     </td><td>499</td><td>Cross-Regional Team</td><td>Approved</td><td>In Progress</td><td>No</td></tr>\n",
              "\t<tr><th scope=row>2</th><td>0509f995</td><td>South Africa</td><td>Urban Development</td><td>15/10/2023</td><td>Idea 1810</td><td>Smart Cities         </td><td>497</td><td>Single Contributor </td><td>Approved</td><td>In Progress</td><td>No</td></tr>\n",
              "\t<tr><th scope=row>3</th><td>4f81ff0e</td><td>China       </td><td>Infrastructure   </td><td>10/01/2024</td><td>Idea 2559</td><td>Smart Cities         </td><td>497</td><td>Single Contributor </td><td>Approved</td><td>In Progress</td><td>No</td></tr>\n",
              "\t<tr><th scope=row>4</th><td>a3790157</td><td>Australia   </td><td>Urban Development</td><td>09/04/2023</td><td>Idea 2824</td><td>Circular Economy     </td><td>497</td><td>Single Contributor </td><td>Approved</td><td>In Progress</td><td>No</td></tr>\n",
              "\t<tr><th scope=row>5</th><td>5aca5661</td><td>South Africa</td><td>Technology       </td><td>27/05/2024</td><td>Idea 924 </td><td>Sustainable Transport</td><td>496</td><td>Single Contributor </td><td>Approved</td><td>In Progress</td><td>No</td></tr>\n",
              "\t<tr><th scope=row>6</th><td>1a4c4fc6</td><td>UK          </td><td>Technology       </td><td>13/05/2024</td><td>Idea 1984</td><td>Circular Economy     </td><td>496</td><td>Cross-Regional Team</td><td>Approved</td><td>Completed  </td><td>No</td></tr>\n",
              "</tbody>\n",
              "</table>\n"
            ],
            "text/markdown": "\nA data.frame: 6 × 11\n\n| <!--/--> | Employee.ID &lt;chr&gt; | Office.Location &lt;chr&gt; | Department &lt;chr&gt; | Idea.Submission.Date &lt;chr&gt; | Idea.Title &lt;chr&gt; | Idea.Category &lt;chr&gt; | Number.of.Votes &lt;int&gt; | Collaboration.Status &lt;chr&gt; | Approval.Status &lt;chr&gt; | Implementation.Status &lt;chr&gt; | Security.Concern.Flag &lt;chr&gt; |\n|---|---|---|---|---|---|---|---|---|---|---|---|\n| 1 | de5ed43f | USA          | Technology        | 09/03/2024 | Idea 2310 | Renewable Energy      | 499 | Cross-Regional Team | Approved | In Progress | No |\n| 2 | 0509f995 | South Africa | Urban Development | 15/10/2023 | Idea 1810 | Smart Cities          | 497 | Single Contributor  | Approved | In Progress | No |\n| 3 | 4f81ff0e | China        | Infrastructure    | 10/01/2024 | Idea 2559 | Smart Cities          | 497 | Single Contributor  | Approved | In Progress | No |\n| 4 | a3790157 | Australia    | Urban Development | 09/04/2023 | Idea 2824 | Circular Economy      | 497 | Single Contributor  | Approved | In Progress | No |\n| 5 | 5aca5661 | South Africa | Technology        | 27/05/2024 | Idea 924  | Sustainable Transport | 496 | Single Contributor  | Approved | In Progress | No |\n| 6 | 1a4c4fc6 | UK           | Technology        | 13/05/2024 | Idea 1984 | Circular Economy      | 496 | Cross-Regional Team | Approved | Completed   | No |\n\n",
            "text/latex": "A data.frame: 6 × 11\n\\begin{tabular}{r|lllllllllll}\n  & Employee.ID & Office.Location & Department & Idea.Submission.Date & Idea.Title & Idea.Category & Number.of.Votes & Collaboration.Status & Approval.Status & Implementation.Status & Security.Concern.Flag\\\\\n  & <chr> & <chr> & <chr> & <chr> & <chr> & <chr> & <int> & <chr> & <chr> & <chr> & <chr>\\\\\n\\hline\n\t1 & de5ed43f & USA          & Technology        & 09/03/2024 & Idea 2310 & Renewable Energy      & 499 & Cross-Regional Team & Approved & In Progress & No\\\\\n\t2 & 0509f995 & South Africa & Urban Development & 15/10/2023 & Idea 1810 & Smart Cities          & 497 & Single Contributor  & Approved & In Progress & No\\\\\n\t3 & 4f81ff0e & China        & Infrastructure    & 10/01/2024 & Idea 2559 & Smart Cities          & 497 & Single Contributor  & Approved & In Progress & No\\\\\n\t4 & a3790157 & Australia    & Urban Development & 09/04/2023 & Idea 2824 & Circular Economy      & 497 & Single Contributor  & Approved & In Progress & No\\\\\n\t5 & 5aca5661 & South Africa & Technology        & 27/05/2024 & Idea 924  & Sustainable Transport & 496 & Single Contributor  & Approved & In Progress & No\\\\\n\t6 & 1a4c4fc6 & UK           & Technology        & 13/05/2024 & Idea 1984 & Circular Economy      & 496 & Cross-Regional Team & Approved & Completed   & No\\\\\n\\end{tabular}\n",
            "text/plain": [
              "  Employee.ID Office.Location Department        Idea.Submission.Date Idea.Title\n",
              "1 de5ed43f    USA             Technology        09/03/2024           Idea 2310 \n",
              "2 0509f995    South Africa    Urban Development 15/10/2023           Idea 1810 \n",
              "3 4f81ff0e    China           Infrastructure    10/01/2024           Idea 2559 \n",
              "4 a3790157    Australia       Urban Development 09/04/2023           Idea 2824 \n",
              "5 5aca5661    South Africa    Technology        27/05/2024           Idea 924  \n",
              "6 1a4c4fc6    UK              Technology        13/05/2024           Idea 1984 \n",
              "  Idea.Category         Number.of.Votes Collaboration.Status Approval.Status\n",
              "1 Renewable Energy      499             Cross-Regional Team  Approved       \n",
              "2 Smart Cities          497             Single Contributor   Approved       \n",
              "3 Smart Cities          497             Single Contributor   Approved       \n",
              "4 Circular Economy      497             Single Contributor   Approved       \n",
              "5 Sustainable Transport 496             Single Contributor   Approved       \n",
              "6 Circular Economy      496             Cross-Regional Team  Approved       \n",
              "  Implementation.Status Security.Concern.Flag\n",
              "1 In Progress           No                   \n",
              "2 In Progress           No                   \n",
              "3 In Progress           No                   \n",
              "4 In Progress           No                   \n",
              "5 In Progress           No                   \n",
              "6 Completed             No                   "
            ]
          },
          "metadata": {}
        },
        {
          "output_type": "display_data",
          "data": {
            "text/html": [
              "<table class=\"dataframe\">\n",
              "<caption>A data.frame: 6 × 11</caption>\n",
              "<thead>\n",
              "\t<tr><th></th><th scope=col>Employee.ID</th><th scope=col>Office.Location</th><th scope=col>Department</th><th scope=col>Idea.Submission.Date</th><th scope=col>Idea.Title</th><th scope=col>Idea.Category</th><th scope=col>Number.of.Votes</th><th scope=col>Collaboration.Status</th><th scope=col>Approval.Status</th><th scope=col>Implementation.Status</th><th scope=col>Security.Concern.Flag</th></tr>\n",
              "\t<tr><th></th><th scope=col>&lt;chr&gt;</th><th scope=col>&lt;chr&gt;</th><th scope=col>&lt;chr&gt;</th><th scope=col>&lt;chr&gt;</th><th scope=col>&lt;chr&gt;</th><th scope=col>&lt;chr&gt;</th><th scope=col>&lt;int&gt;</th><th scope=col>&lt;chr&gt;</th><th scope=col>&lt;chr&gt;</th><th scope=col>&lt;chr&gt;</th><th scope=col>&lt;chr&gt;</th></tr>\n",
              "</thead>\n",
              "<tbody>\n",
              "\t<tr><th scope=row>1</th><td>7d239d23</td><td>USA         </td><td>Urban Development</td><td>18/10/2024</td><td>Idea 1020</td><td>Circular Economy</td><td>500</td><td>Cross-Regional Team</td><td>Approved</td><td>In Progress</td><td>Yes</td></tr>\n",
              "\t<tr><th scope=row>2</th><td>de5ed43f</td><td>USA         </td><td>Technology       </td><td>09/03/2024</td><td>Idea 2310</td><td>Renewable Energy</td><td>499</td><td>Cross-Regional Team</td><td>Approved</td><td>In Progress</td><td>No </td></tr>\n",
              "\t<tr><th scope=row>3</th><td>4b644995</td><td>USA         </td><td>Renewable Energy </td><td>04/06/2024</td><td>Idea 1876</td><td>Renewable Energy</td><td>498</td><td>Single Contributor </td><td>Approved</td><td>Not Started</td><td>No </td></tr>\n",
              "\t<tr><th scope=row>4</th><td>0509f995</td><td>South Africa</td><td>Urban Development</td><td>15/10/2023</td><td>Idea 1810</td><td>Smart Cities    </td><td>497</td><td>Single Contributor </td><td>Approved</td><td>In Progress</td><td>No </td></tr>\n",
              "\t<tr><th scope=row>5</th><td>a3790157</td><td>Australia   </td><td>Urban Development</td><td>09/04/2023</td><td>Idea 2824</td><td>Circular Economy</td><td>497</td><td>Single Contributor </td><td>Approved</td><td>In Progress</td><td>No </td></tr>\n",
              "\t<tr><th scope=row>6</th><td>634c4f72</td><td>South Africa</td><td>Technology       </td><td>26/07/2023</td><td>Idea 761 </td><td>Water Management</td><td>496</td><td>Cross-Regional Team</td><td>Approved</td><td>Not Started</td><td>No </td></tr>\n",
              "</tbody>\n",
              "</table>\n"
            ],
            "text/markdown": "\nA data.frame: 6 × 11\n\n| <!--/--> | Employee.ID &lt;chr&gt; | Office.Location &lt;chr&gt; | Department &lt;chr&gt; | Idea.Submission.Date &lt;chr&gt; | Idea.Title &lt;chr&gt; | Idea.Category &lt;chr&gt; | Number.of.Votes &lt;int&gt; | Collaboration.Status &lt;chr&gt; | Approval.Status &lt;chr&gt; | Implementation.Status &lt;chr&gt; | Security.Concern.Flag &lt;chr&gt; |\n|---|---|---|---|---|---|---|---|---|---|---|---|\n| 1 | 7d239d23 | USA          | Urban Development | 18/10/2024 | Idea 1020 | Circular Economy | 500 | Cross-Regional Team | Approved | In Progress | Yes |\n| 2 | de5ed43f | USA          | Technology        | 09/03/2024 | Idea 2310 | Renewable Energy | 499 | Cross-Regional Team | Approved | In Progress | No  |\n| 3 | 4b644995 | USA          | Renewable Energy  | 04/06/2024 | Idea 1876 | Renewable Energy | 498 | Single Contributor  | Approved | Not Started | No  |\n| 4 | 0509f995 | South Africa | Urban Development | 15/10/2023 | Idea 1810 | Smart Cities     | 497 | Single Contributor  | Approved | In Progress | No  |\n| 5 | a3790157 | Australia    | Urban Development | 09/04/2023 | Idea 2824 | Circular Economy | 497 | Single Contributor  | Approved | In Progress | No  |\n| 6 | 634c4f72 | South Africa | Technology        | 26/07/2023 | Idea 761  | Water Management | 496 | Cross-Regional Team | Approved | Not Started | No  |\n\n",
            "text/latex": "A data.frame: 6 × 11\n\\begin{tabular}{r|lllllllllll}\n  & Employee.ID & Office.Location & Department & Idea.Submission.Date & Idea.Title & Idea.Category & Number.of.Votes & Collaboration.Status & Approval.Status & Implementation.Status & Security.Concern.Flag\\\\\n  & <chr> & <chr> & <chr> & <chr> & <chr> & <chr> & <int> & <chr> & <chr> & <chr> & <chr>\\\\\n\\hline\n\t1 & 7d239d23 & USA          & Urban Development & 18/10/2024 & Idea 1020 & Circular Economy & 500 & Cross-Regional Team & Approved & In Progress & Yes\\\\\n\t2 & de5ed43f & USA          & Technology        & 09/03/2024 & Idea 2310 & Renewable Energy & 499 & Cross-Regional Team & Approved & In Progress & No \\\\\n\t3 & 4b644995 & USA          & Renewable Energy  & 04/06/2024 & Idea 1876 & Renewable Energy & 498 & Single Contributor  & Approved & Not Started & No \\\\\n\t4 & 0509f995 & South Africa & Urban Development & 15/10/2023 & Idea 1810 & Smart Cities     & 497 & Single Contributor  & Approved & In Progress & No \\\\\n\t5 & a3790157 & Australia    & Urban Development & 09/04/2023 & Idea 2824 & Circular Economy & 497 & Single Contributor  & Approved & In Progress & No \\\\\n\t6 & 634c4f72 & South Africa & Technology        & 26/07/2023 & Idea 761  & Water Management & 496 & Cross-Regional Team & Approved & Not Started & No \\\\\n\\end{tabular}\n",
            "text/plain": [
              "  Employee.ID Office.Location Department        Idea.Submission.Date Idea.Title\n",
              "1 7d239d23    USA             Urban Development 18/10/2024           Idea 1020 \n",
              "2 de5ed43f    USA             Technology        09/03/2024           Idea 2310 \n",
              "3 4b644995    USA             Renewable Energy  04/06/2024           Idea 1876 \n",
              "4 0509f995    South Africa    Urban Development 15/10/2023           Idea 1810 \n",
              "5 a3790157    Australia       Urban Development 09/04/2023           Idea 2824 \n",
              "6 634c4f72    South Africa    Technology        26/07/2023           Idea 761  \n",
              "  Idea.Category    Number.of.Votes Collaboration.Status Approval.Status\n",
              "1 Circular Economy 500             Cross-Regional Team  Approved       \n",
              "2 Renewable Energy 499             Cross-Regional Team  Approved       \n",
              "3 Renewable Energy 498             Single Contributor   Approved       \n",
              "4 Smart Cities     497             Single Contributor   Approved       \n",
              "5 Circular Economy 497             Single Contributor   Approved       \n",
              "6 Water Management 496             Cross-Regional Team  Approved       \n",
              "  Implementation.Status Security.Concern.Flag\n",
              "1 In Progress           Yes                  \n",
              "2 In Progress           No                   \n",
              "3 Not Started           No                   \n",
              "4 In Progress           No                   \n",
              "5 In Progress           No                   \n",
              "6 Not Started           No                   "
            ]
          },
          "metadata": {}
        }
      ]
    },
    {
      "cell_type": "code",
      "source": [
        "#Step 3; Aggregate Functions\n",
        "\n",
        "# Count ideas per department\n",
        "ideasDept <- sqldf(\"SELECT Department, COUNT(*) AS Total_Ideas\n",
        "                    FROM data\n",
        "                    GROUP BY Department\n",
        "                    ORDER by Total_Ideas DESC\")\n",
        "\n",
        "# Average votes by office\n",
        "avgVotesOffice <- sqldf(\"SELECT `Office.Location`, AVG(`Number.of.Votes`) AS Avg_Votes\n",
        "                         FROM data\n",
        "                         GROUP BY `Office.Location`\n",
        "                         ORDER BY Avg_Votes DESC\")\n",
        "\n",
        "\n",
        "\n",
        "\n",
        "# Max votes by category\n",
        "maxVotesCat <- sqldf(\"SELECT `Idea.Category`, MAX(`Number.of.Votes`) AS Max_Votes\n",
        "                      FROM data\n",
        "                      GROUP BY `Idea.Category`\n",
        "                      ORDER BY Max_Votes DESC\")\n",
        "\n",
        "head(ideasDept)\n",
        "head(avgVotesOffice)\n",
        "head(maxVotesCat)\n"
      ],
      "metadata": {
        "colab": {
          "base_uri": "https://localhost:8080/",
          "height": 825
        },
        "collapsed": true,
        "id": "Cf567Zsgog6_",
        "outputId": "e57f2e48-ff51-451e-a766-363091b50d0e"
      },
      "execution_count": 9,
      "outputs": [
        {
          "output_type": "display_data",
          "data": {
            "text/html": [
              "<table class=\"dataframe\">\n",
              "<caption>A data.frame: 6 × 2</caption>\n",
              "<thead>\n",
              "\t<tr><th></th><th scope=col>Department</th><th scope=col>Total_Ideas</th></tr>\n",
              "\t<tr><th></th><th scope=col>&lt;chr&gt;</th><th scope=col>&lt;int&gt;</th></tr>\n",
              "</thead>\n",
              "<tbody>\n",
              "\t<tr><th scope=row>1</th><td>Infrastructure      </td><td>547</td></tr>\n",
              "\t<tr><th scope=row>2</th><td>Renewable Energy    </td><td>513</td></tr>\n",
              "\t<tr><th scope=row>3</th><td>Environmental Policy</td><td>499</td></tr>\n",
              "\t<tr><th scope=row>4</th><td>Research            </td><td>498</td></tr>\n",
              "\t<tr><th scope=row>5</th><td>Urban Development   </td><td>486</td></tr>\n",
              "\t<tr><th scope=row>6</th><td>Technology          </td><td>457</td></tr>\n",
              "</tbody>\n",
              "</table>\n"
            ],
            "text/markdown": "\nA data.frame: 6 × 2\n\n| <!--/--> | Department &lt;chr&gt; | Total_Ideas &lt;int&gt; |\n|---|---|---|\n| 1 | Infrastructure       | 547 |\n| 2 | Renewable Energy     | 513 |\n| 3 | Environmental Policy | 499 |\n| 4 | Research             | 498 |\n| 5 | Urban Development    | 486 |\n| 6 | Technology           | 457 |\n\n",
            "text/latex": "A data.frame: 6 × 2\n\\begin{tabular}{r|ll}\n  & Department & Total\\_Ideas\\\\\n  & <chr> & <int>\\\\\n\\hline\n\t1 & Infrastructure       & 547\\\\\n\t2 & Renewable Energy     & 513\\\\\n\t3 & Environmental Policy & 499\\\\\n\t4 & Research             & 498\\\\\n\t5 & Urban Development    & 486\\\\\n\t6 & Technology           & 457\\\\\n\\end{tabular}\n",
            "text/plain": [
              "  Department           Total_Ideas\n",
              "1 Infrastructure       547        \n",
              "2 Renewable Energy     513        \n",
              "3 Environmental Policy 499        \n",
              "4 Research             498        \n",
              "5 Urban Development    486        \n",
              "6 Technology           457        "
            ]
          },
          "metadata": {}
        },
        {
          "output_type": "display_data",
          "data": {
            "text/html": [
              "<table class=\"dataframe\">\n",
              "<caption>A data.frame: 6 × 2</caption>\n",
              "<thead>\n",
              "\t<tr><th></th><th scope=col>Office.Location</th><th scope=col>Avg_Votes</th></tr>\n",
              "\t<tr><th></th><th scope=col>&lt;chr&gt;</th><th scope=col>&lt;dbl&gt;</th></tr>\n",
              "</thead>\n",
              "<tbody>\n",
              "\t<tr><th scope=row>1</th><td>Mexico   </td><td>264.7542</td></tr>\n",
              "\t<tr><th scope=row>2</th><td>Japan    </td><td>263.2432</td></tr>\n",
              "\t<tr><th scope=row>3</th><td>Brazil   </td><td>254.9207</td></tr>\n",
              "\t<tr><th scope=row>4</th><td>Australia</td><td>254.5205</td></tr>\n",
              "\t<tr><th scope=row>5</th><td>USA      </td><td>250.7801</td></tr>\n",
              "\t<tr><th scope=row>6</th><td>China    </td><td>248.9714</td></tr>\n",
              "</tbody>\n",
              "</table>\n"
            ],
            "text/markdown": "\nA data.frame: 6 × 2\n\n| <!--/--> | Office.Location &lt;chr&gt; | Avg_Votes &lt;dbl&gt; |\n|---|---|---|\n| 1 | Mexico    | 264.7542 |\n| 2 | Japan     | 263.2432 |\n| 3 | Brazil    | 254.9207 |\n| 4 | Australia | 254.5205 |\n| 5 | USA       | 250.7801 |\n| 6 | China     | 248.9714 |\n\n",
            "text/latex": "A data.frame: 6 × 2\n\\begin{tabular}{r|ll}\n  & Office.Location & Avg\\_Votes\\\\\n  & <chr> & <dbl>\\\\\n\\hline\n\t1 & Mexico    & 264.7542\\\\\n\t2 & Japan     & 263.2432\\\\\n\t3 & Brazil    & 254.9207\\\\\n\t4 & Australia & 254.5205\\\\\n\t5 & USA       & 250.7801\\\\\n\t6 & China     & 248.9714\\\\\n\\end{tabular}\n",
            "text/plain": [
              "  Office.Location Avg_Votes\n",
              "1 Mexico          264.7542 \n",
              "2 Japan           263.2432 \n",
              "3 Brazil          254.9207 \n",
              "4 Australia       254.5205 \n",
              "5 USA             250.7801 \n",
              "6 China           248.9714 "
            ]
          },
          "metadata": {}
        },
        {
          "output_type": "display_data",
          "data": {
            "text/html": [
              "<table class=\"dataframe\">\n",
              "<caption>A data.frame: 6 × 2</caption>\n",
              "<thead>\n",
              "\t<tr><th></th><th scope=col>Idea.Category</th><th scope=col>Max_Votes</th></tr>\n",
              "\t<tr><th></th><th scope=col>&lt;chr&gt;</th><th scope=col>&lt;int&gt;</th></tr>\n",
              "</thead>\n",
              "<tbody>\n",
              "\t<tr><th scope=row>1</th><td>Water Management     </td><td>500</td></tr>\n",
              "\t<tr><th scope=row>2</th><td>Sustainable Transport</td><td>500</td></tr>\n",
              "\t<tr><th scope=row>3</th><td>Renewable Energy     </td><td>500</td></tr>\n",
              "\t<tr><th scope=row>4</th><td>Circular Economy     </td><td>500</td></tr>\n",
              "\t<tr><th scope=row>5</th><td>Carbon Capture       </td><td>499</td></tr>\n",
              "\t<tr><th scope=row>6</th><td>Smart Cities         </td><td>498</td></tr>\n",
              "</tbody>\n",
              "</table>\n"
            ],
            "text/markdown": "\nA data.frame: 6 × 2\n\n| <!--/--> | Idea.Category &lt;chr&gt; | Max_Votes &lt;int&gt; |\n|---|---|---|\n| 1 | Water Management      | 500 |\n| 2 | Sustainable Transport | 500 |\n| 3 | Renewable Energy      | 500 |\n| 4 | Circular Economy      | 500 |\n| 5 | Carbon Capture        | 499 |\n| 6 | Smart Cities          | 498 |\n\n",
            "text/latex": "A data.frame: 6 × 2\n\\begin{tabular}{r|ll}\n  & Idea.Category & Max\\_Votes\\\\\n  & <chr> & <int>\\\\\n\\hline\n\t1 & Water Management      & 500\\\\\n\t2 & Sustainable Transport & 500\\\\\n\t3 & Renewable Energy      & 500\\\\\n\t4 & Circular Economy      & 500\\\\\n\t5 & Carbon Capture        & 499\\\\\n\t6 & Smart Cities          & 498\\\\\n\\end{tabular}\n",
            "text/plain": [
              "  Idea.Category         Max_Votes\n",
              "1 Water Management      500      \n",
              "2 Sustainable Transport 500      \n",
              "3 Renewable Energy      500      \n",
              "4 Circular Economy      500      \n",
              "5 Carbon Capture        499      \n",
              "6 Smart Cities          498      "
            ]
          },
          "metadata": {}
        }
      ]
    },
    {
      "cell_type": "code",
      "source": [
        "#Step 4; Business Analysis\n",
        "\n",
        "# Find departments with most approved ideas\n",
        "deptVotes <- sqldf(\"SELECT Department, COUNT(*) AS Approved_Ideas\n",
        "                    FROM data\n",
        "                    WHERE `Approval.Status` = 'Approved' GROUP BY Department\n",
        "                    ORDER BY Approved_Ideas DESC\")\n",
        "\n",
        "# Find top collaborating regions by number of 'Cross-Regional Team' submissions\n",
        "topCollab <- sqldf(\"SELECT `Office.Location`, COUNT(*) AS Team_Ideas\n",
        "                    FROM data\n",
        "                    WHERE `Collaboration.Status` = 'Cross-Regional Team'\n",
        "                    GROUP BY `Office.Location`\n",
        "                    ORDER BY Team_Ideas DESC\")\n",
        "\n",
        "head(deptVotes)\n",
        "head(topCollab)"
      ],
      "metadata": {
        "colab": {
          "base_uri": "https://localhost:8080/",
          "height": 555
        },
        "collapsed": true,
        "id": "466BOMjUuLkW",
        "outputId": "fb908928-4a99-4338-fd12-cdf1894f2782"
      },
      "execution_count": 13,
      "outputs": [
        {
          "output_type": "display_data",
          "data": {
            "text/html": [
              "<table class=\"dataframe\">\n",
              "<caption>A data.frame: 6 × 2</caption>\n",
              "<thead>\n",
              "\t<tr><th></th><th scope=col>Department</th><th scope=col>Approved_Ideas</th></tr>\n",
              "\t<tr><th></th><th scope=col>&lt;chr&gt;</th><th scope=col>&lt;int&gt;</th></tr>\n",
              "</thead>\n",
              "<tbody>\n",
              "\t<tr><th scope=row>1</th><td>Infrastructure      </td><td>183</td></tr>\n",
              "\t<tr><th scope=row>2</th><td>Renewable Energy    </td><td>182</td></tr>\n",
              "\t<tr><th scope=row>3</th><td>Technology          </td><td>172</td></tr>\n",
              "\t<tr><th scope=row>4</th><td>Research            </td><td>169</td></tr>\n",
              "\t<tr><th scope=row>5</th><td>Environmental Policy</td><td>169</td></tr>\n",
              "\t<tr><th scope=row>6</th><td>Urban Development   </td><td>162</td></tr>\n",
              "</tbody>\n",
              "</table>\n"
            ],
            "text/markdown": "\nA data.frame: 6 × 2\n\n| <!--/--> | Department &lt;chr&gt; | Approved_Ideas &lt;int&gt; |\n|---|---|---|\n| 1 | Infrastructure       | 183 |\n| 2 | Renewable Energy     | 182 |\n| 3 | Technology           | 172 |\n| 4 | Research             | 169 |\n| 5 | Environmental Policy | 169 |\n| 6 | Urban Development    | 162 |\n\n",
            "text/latex": "A data.frame: 6 × 2\n\\begin{tabular}{r|ll}\n  & Department & Approved\\_Ideas\\\\\n  & <chr> & <int>\\\\\n\\hline\n\t1 & Infrastructure       & 183\\\\\n\t2 & Renewable Energy     & 182\\\\\n\t3 & Technology           & 172\\\\\n\t4 & Research             & 169\\\\\n\t5 & Environmental Policy & 169\\\\\n\t6 & Urban Development    & 162\\\\\n\\end{tabular}\n",
            "text/plain": [
              "  Department           Approved_Ideas\n",
              "1 Infrastructure       183           \n",
              "2 Renewable Energy     182           \n",
              "3 Technology           172           \n",
              "4 Research             169           \n",
              "5 Environmental Policy 169           \n",
              "6 Urban Development    162           "
            ]
          },
          "metadata": {}
        },
        {
          "output_type": "display_data",
          "data": {
            "text/html": [
              "<table class=\"dataframe\">\n",
              "<caption>A data.frame: 6 × 2</caption>\n",
              "<thead>\n",
              "\t<tr><th></th><th scope=col>Office.Location</th><th scope=col>Team_Ideas</th></tr>\n",
              "\t<tr><th></th><th scope=col>&lt;chr&gt;</th><th scope=col>&lt;int&gt;</th></tr>\n",
              "</thead>\n",
              "<tbody>\n",
              "\t<tr><th scope=row>1</th><td>China  </td><td>140</td></tr>\n",
              "\t<tr><th scope=row>2</th><td>Japan  </td><td>135</td></tr>\n",
              "\t<tr><th scope=row>3</th><td>Canada </td><td>132</td></tr>\n",
              "\t<tr><th scope=row>4</th><td>Germany</td><td>127</td></tr>\n",
              "\t<tr><th scope=row>5</th><td>France </td><td>127</td></tr>\n",
              "\t<tr><th scope=row>6</th><td>USA    </td><td>124</td></tr>\n",
              "</tbody>\n",
              "</table>\n"
            ],
            "text/markdown": "\nA data.frame: 6 × 2\n\n| <!--/--> | Office.Location &lt;chr&gt; | Team_Ideas &lt;int&gt; |\n|---|---|---|\n| 1 | China   | 140 |\n| 2 | Japan   | 135 |\n| 3 | Canada  | 132 |\n| 4 | Germany | 127 |\n| 5 | France  | 127 |\n| 6 | USA     | 124 |\n\n",
            "text/latex": "A data.frame: 6 × 2\n\\begin{tabular}{r|ll}\n  & Office.Location & Team\\_Ideas\\\\\n  & <chr> & <int>\\\\\n\\hline\n\t1 & China   & 140\\\\\n\t2 & Japan   & 135\\\\\n\t3 & Canada  & 132\\\\\n\t4 & Germany & 127\\\\\n\t5 & France  & 127\\\\\n\t6 & USA     & 124\\\\\n\\end{tabular}\n",
            "text/plain": [
              "  Office.Location Team_Ideas\n",
              "1 China           140       \n",
              "2 Japan           135       \n",
              "3 Canada          132       \n",
              "4 Germany         127       \n",
              "5 France          127       \n",
              "6 USA             124       "
            ]
          },
          "metadata": {}
        }
      ]
    },
    {
      "cell_type": "code",
      "source": [
        "#Step 5; Data Manipulation\n",
        "\n",
        "# Add a new column to classify popularity\n",
        "data <- data %>%\n",
        "  mutate(Popularity = case_when(\n",
        "    `Number.of.Votes` >= 400 ~ \"High\",\n",
        "    `Number.of.Votes` >= 200 ~ \"Medium\",\n",
        "    TRUE ~ \"Low\"\n",
        "  ))\n",
        "\n",
        "# Filter out only 'Approved' & 'Completed'\n",
        "approved_done <- data %>%\n",
        "  filter(`Approval.Status` == \"Approved\", `Implementation.Status` == \"Completed\")\n",
        "\n",
        "head(data)\n",
        "head(approved_done)"
      ],
      "metadata": {
        "colab": {
          "base_uri": "https://localhost:8080/",
          "height": 555
        },
        "collapsed": true,
        "id": "jrt07yD4wUux",
        "outputId": "8a5b1527-6667-4b6d-aef3-a20107bcfc94"
      },
      "execution_count": 17,
      "outputs": [
        {
          "output_type": "display_data",
          "data": {
            "text/html": [
              "<table class=\"dataframe\">\n",
              "<caption>A data.frame: 6 × 12</caption>\n",
              "<thead>\n",
              "\t<tr><th></th><th scope=col>Employee.ID</th><th scope=col>Office.Location</th><th scope=col>Department</th><th scope=col>Idea.Submission.Date</th><th scope=col>Idea.Title</th><th scope=col>Idea.Category</th><th scope=col>Number.of.Votes</th><th scope=col>Collaboration.Status</th><th scope=col>Approval.Status</th><th scope=col>Implementation.Status</th><th scope=col>Security.Concern.Flag</th><th scope=col>Popularity</th></tr>\n",
              "\t<tr><th></th><th scope=col>&lt;chr&gt;</th><th scope=col>&lt;chr&gt;</th><th scope=col>&lt;chr&gt;</th><th scope=col>&lt;chr&gt;</th><th scope=col>&lt;chr&gt;</th><th scope=col>&lt;chr&gt;</th><th scope=col>&lt;int&gt;</th><th scope=col>&lt;chr&gt;</th><th scope=col>&lt;chr&gt;</th><th scope=col>&lt;chr&gt;</th><th scope=col>&lt;chr&gt;</th><th scope=col>&lt;chr&gt;</th></tr>\n",
              "</thead>\n",
              "<tbody>\n",
              "\t<tr><th scope=row>1</th><td>587b45d8</td><td>Germany  </td><td>Renewable Energy    </td><td>16/04/2024</td><td>Idea 1</td><td>Sustainable Transport</td><td>231</td><td>Single Contributor </td><td>Pending </td><td>Not Started</td><td>No </td><td>Medium</td></tr>\n",
              "\t<tr><th scope=row>2</th><td>0d3e8b8e</td><td>Canada   </td><td>Renewable Energy    </td><td>14/01/2024</td><td>Idea 2</td><td>Water Management     </td><td>477</td><td>Cross-Regional Team</td><td>Approved</td><td>In Progress</td><td>No </td><td>High  </td></tr>\n",
              "\t<tr><th scope=row>3</th><td>fa012fe7</td><td>France   </td><td>Environmental Policy</td><td>10/01/2025</td><td>Idea 3</td><td>Renewable Energy     </td><td> 48</td><td>Cross-Regional Team</td><td>Approved</td><td>Not Started</td><td>Yes</td><td>Low   </td></tr>\n",
              "\t<tr><th scope=row>4</th><td>cb8ed680</td><td>Japan    </td><td>Technology          </td><td>24/12/2023</td><td>Idea 4</td><td>Circular Economy     </td><td>330</td><td>Cross-Regional Team</td><td>Approved</td><td>Completed  </td><td>No </td><td>Medium</td></tr>\n",
              "\t<tr><th scope=row>5</th><td>333fff26</td><td>Australia</td><td>Technology          </td><td>13/02/2025</td><td>Idea 5</td><td>Circular Economy     </td><td>428</td><td>Single Contributor </td><td>Approved</td><td>Not Started</td><td>No </td><td>High  </td></tr>\n",
              "\t<tr><th scope=row>6</th><td>a34ebb0f</td><td>India    </td><td>Technology          </td><td>08/09/2024</td><td>Idea 6</td><td>Circular Economy     </td><td>431</td><td>Single Contributor </td><td>Rejected</td><td>Not Started</td><td>No </td><td>High  </td></tr>\n",
              "</tbody>\n",
              "</table>\n"
            ],
            "text/markdown": "\nA data.frame: 6 × 12\n\n| <!--/--> | Employee.ID &lt;chr&gt; | Office.Location &lt;chr&gt; | Department &lt;chr&gt; | Idea.Submission.Date &lt;chr&gt; | Idea.Title &lt;chr&gt; | Idea.Category &lt;chr&gt; | Number.of.Votes &lt;int&gt; | Collaboration.Status &lt;chr&gt; | Approval.Status &lt;chr&gt; | Implementation.Status &lt;chr&gt; | Security.Concern.Flag &lt;chr&gt; | Popularity &lt;chr&gt; |\n|---|---|---|---|---|---|---|---|---|---|---|---|---|\n| 1 | 587b45d8 | Germany   | Renewable Energy     | 16/04/2024 | Idea 1 | Sustainable Transport | 231 | Single Contributor  | Pending  | Not Started | No  | Medium |\n| 2 | 0d3e8b8e | Canada    | Renewable Energy     | 14/01/2024 | Idea 2 | Water Management      | 477 | Cross-Regional Team | Approved | In Progress | No  | High   |\n| 3 | fa012fe7 | France    | Environmental Policy | 10/01/2025 | Idea 3 | Renewable Energy      |  48 | Cross-Regional Team | Approved | Not Started | Yes | Low    |\n| 4 | cb8ed680 | Japan     | Technology           | 24/12/2023 | Idea 4 | Circular Economy      | 330 | Cross-Regional Team | Approved | Completed   | No  | Medium |\n| 5 | 333fff26 | Australia | Technology           | 13/02/2025 | Idea 5 | Circular Economy      | 428 | Single Contributor  | Approved | Not Started | No  | High   |\n| 6 | a34ebb0f | India     | Technology           | 08/09/2024 | Idea 6 | Circular Economy      | 431 | Single Contributor  | Rejected | Not Started | No  | High   |\n\n",
            "text/latex": "A data.frame: 6 × 12\n\\begin{tabular}{r|llllllllllll}\n  & Employee.ID & Office.Location & Department & Idea.Submission.Date & Idea.Title & Idea.Category & Number.of.Votes & Collaboration.Status & Approval.Status & Implementation.Status & Security.Concern.Flag & Popularity\\\\\n  & <chr> & <chr> & <chr> & <chr> & <chr> & <chr> & <int> & <chr> & <chr> & <chr> & <chr> & <chr>\\\\\n\\hline\n\t1 & 587b45d8 & Germany   & Renewable Energy     & 16/04/2024 & Idea 1 & Sustainable Transport & 231 & Single Contributor  & Pending  & Not Started & No  & Medium\\\\\n\t2 & 0d3e8b8e & Canada    & Renewable Energy     & 14/01/2024 & Idea 2 & Water Management      & 477 & Cross-Regional Team & Approved & In Progress & No  & High  \\\\\n\t3 & fa012fe7 & France    & Environmental Policy & 10/01/2025 & Idea 3 & Renewable Energy      &  48 & Cross-Regional Team & Approved & Not Started & Yes & Low   \\\\\n\t4 & cb8ed680 & Japan     & Technology           & 24/12/2023 & Idea 4 & Circular Economy      & 330 & Cross-Regional Team & Approved & Completed   & No  & Medium\\\\\n\t5 & 333fff26 & Australia & Technology           & 13/02/2025 & Idea 5 & Circular Economy      & 428 & Single Contributor  & Approved & Not Started & No  & High  \\\\\n\t6 & a34ebb0f & India     & Technology           & 08/09/2024 & Idea 6 & Circular Economy      & 431 & Single Contributor  & Rejected & Not Started & No  & High  \\\\\n\\end{tabular}\n",
            "text/plain": [
              "  Employee.ID Office.Location Department           Idea.Submission.Date\n",
              "1 587b45d8    Germany         Renewable Energy     16/04/2024          \n",
              "2 0d3e8b8e    Canada          Renewable Energy     14/01/2024          \n",
              "3 fa012fe7    France          Environmental Policy 10/01/2025          \n",
              "4 cb8ed680    Japan           Technology           24/12/2023          \n",
              "5 333fff26    Australia       Technology           13/02/2025          \n",
              "6 a34ebb0f    India           Technology           08/09/2024          \n",
              "  Idea.Title Idea.Category         Number.of.Votes Collaboration.Status\n",
              "1 Idea 1     Sustainable Transport 231             Single Contributor  \n",
              "2 Idea 2     Water Management      477             Cross-Regional Team \n",
              "3 Idea 3     Renewable Energy       48             Cross-Regional Team \n",
              "4 Idea 4     Circular Economy      330             Cross-Regional Team \n",
              "5 Idea 5     Circular Economy      428             Single Contributor  \n",
              "6 Idea 6     Circular Economy      431             Single Contributor  \n",
              "  Approval.Status Implementation.Status Security.Concern.Flag Popularity\n",
              "1 Pending         Not Started           No                    Medium    \n",
              "2 Approved        In Progress           No                    High      \n",
              "3 Approved        Not Started           Yes                   Low       \n",
              "4 Approved        Completed             No                    Medium    \n",
              "5 Approved        Not Started           No                    High      \n",
              "6 Rejected        Not Started           No                    High      "
            ]
          },
          "metadata": {}
        },
        {
          "output_type": "display_data",
          "data": {
            "text/html": [
              "<table class=\"dataframe\">\n",
              "<caption>A data.frame: 6 × 12</caption>\n",
              "<thead>\n",
              "\t<tr><th></th><th scope=col>Employee.ID</th><th scope=col>Office.Location</th><th scope=col>Department</th><th scope=col>Idea.Submission.Date</th><th scope=col>Idea.Title</th><th scope=col>Idea.Category</th><th scope=col>Number.of.Votes</th><th scope=col>Collaboration.Status</th><th scope=col>Approval.Status</th><th scope=col>Implementation.Status</th><th scope=col>Security.Concern.Flag</th><th scope=col>Popularity</th></tr>\n",
              "\t<tr><th></th><th scope=col>&lt;chr&gt;</th><th scope=col>&lt;chr&gt;</th><th scope=col>&lt;chr&gt;</th><th scope=col>&lt;chr&gt;</th><th scope=col>&lt;chr&gt;</th><th scope=col>&lt;chr&gt;</th><th scope=col>&lt;int&gt;</th><th scope=col>&lt;chr&gt;</th><th scope=col>&lt;chr&gt;</th><th scope=col>&lt;chr&gt;</th><th scope=col>&lt;chr&gt;</th><th scope=col>&lt;chr&gt;</th></tr>\n",
              "</thead>\n",
              "<tbody>\n",
              "\t<tr><th scope=row>1</th><td>cb8ed680</td><td>Japan  </td><td>Technology          </td><td>24/12/2023</td><td>Idea 4 </td><td>Circular Economy     </td><td>330</td><td>Cross-Regional Team</td><td>Approved</td><td>Completed</td><td>No </td><td>Medium</td></tr>\n",
              "\t<tr><th scope=row>2</th><td>018d372d</td><td>Germany</td><td>Technology          </td><td>16/08/2024</td><td>Idea 17</td><td>Water Management     </td><td>  2</td><td>Cross-Regional Team</td><td>Approved</td><td>Completed</td><td>No </td><td>Low   </td></tr>\n",
              "\t<tr><th scope=row>3</th><td>25120b55</td><td>UK     </td><td>Technology          </td><td>08/04/2024</td><td>Idea 33</td><td>Sustainable Transport</td><td>353</td><td>Cross-Regional Team</td><td>Approved</td><td>Completed</td><td>No </td><td>Medium</td></tr>\n",
              "\t<tr><th scope=row>4</th><td>3d5402e7</td><td>Germany</td><td>Technology          </td><td>29/10/2023</td><td>Idea 39</td><td>Water Management     </td><td>433</td><td>Cross-Regional Team</td><td>Approved</td><td>Completed</td><td>No </td><td>High  </td></tr>\n",
              "\t<tr><th scope=row>5</th><td>4aa3ec97</td><td>Canada </td><td>Environmental Policy</td><td>17/11/2024</td><td>Idea 47</td><td>Carbon Capture       </td><td> 41</td><td>Cross-Regional Team</td><td>Approved</td><td>Completed</td><td>Yes</td><td>Low   </td></tr>\n",
              "\t<tr><th scope=row>6</th><td>b86d3b55</td><td>China  </td><td>Renewable Energy    </td><td>10/11/2024</td><td>Idea 52</td><td>Carbon Capture       </td><td> 27</td><td>Cross-Regional Team</td><td>Approved</td><td>Completed</td><td>Yes</td><td>Low   </td></tr>\n",
              "</tbody>\n",
              "</table>\n"
            ],
            "text/markdown": "\nA data.frame: 6 × 12\n\n| <!--/--> | Employee.ID &lt;chr&gt; | Office.Location &lt;chr&gt; | Department &lt;chr&gt; | Idea.Submission.Date &lt;chr&gt; | Idea.Title &lt;chr&gt; | Idea.Category &lt;chr&gt; | Number.of.Votes &lt;int&gt; | Collaboration.Status &lt;chr&gt; | Approval.Status &lt;chr&gt; | Implementation.Status &lt;chr&gt; | Security.Concern.Flag &lt;chr&gt; | Popularity &lt;chr&gt; |\n|---|---|---|---|---|---|---|---|---|---|---|---|---|\n| 1 | cb8ed680 | Japan   | Technology           | 24/12/2023 | Idea 4  | Circular Economy      | 330 | Cross-Regional Team | Approved | Completed | No  | Medium |\n| 2 | 018d372d | Germany | Technology           | 16/08/2024 | Idea 17 | Water Management      |   2 | Cross-Regional Team | Approved | Completed | No  | Low    |\n| 3 | 25120b55 | UK      | Technology           | 08/04/2024 | Idea 33 | Sustainable Transport | 353 | Cross-Regional Team | Approved | Completed | No  | Medium |\n| 4 | 3d5402e7 | Germany | Technology           | 29/10/2023 | Idea 39 | Water Management      | 433 | Cross-Regional Team | Approved | Completed | No  | High   |\n| 5 | 4aa3ec97 | Canada  | Environmental Policy | 17/11/2024 | Idea 47 | Carbon Capture        |  41 | Cross-Regional Team | Approved | Completed | Yes | Low    |\n| 6 | b86d3b55 | China   | Renewable Energy     | 10/11/2024 | Idea 52 | Carbon Capture        |  27 | Cross-Regional Team | Approved | Completed | Yes | Low    |\n\n",
            "text/latex": "A data.frame: 6 × 12\n\\begin{tabular}{r|llllllllllll}\n  & Employee.ID & Office.Location & Department & Idea.Submission.Date & Idea.Title & Idea.Category & Number.of.Votes & Collaboration.Status & Approval.Status & Implementation.Status & Security.Concern.Flag & Popularity\\\\\n  & <chr> & <chr> & <chr> & <chr> & <chr> & <chr> & <int> & <chr> & <chr> & <chr> & <chr> & <chr>\\\\\n\\hline\n\t1 & cb8ed680 & Japan   & Technology           & 24/12/2023 & Idea 4  & Circular Economy      & 330 & Cross-Regional Team & Approved & Completed & No  & Medium\\\\\n\t2 & 018d372d & Germany & Technology           & 16/08/2024 & Idea 17 & Water Management      &   2 & Cross-Regional Team & Approved & Completed & No  & Low   \\\\\n\t3 & 25120b55 & UK      & Technology           & 08/04/2024 & Idea 33 & Sustainable Transport & 353 & Cross-Regional Team & Approved & Completed & No  & Medium\\\\\n\t4 & 3d5402e7 & Germany & Technology           & 29/10/2023 & Idea 39 & Water Management      & 433 & Cross-Regional Team & Approved & Completed & No  & High  \\\\\n\t5 & 4aa3ec97 & Canada  & Environmental Policy & 17/11/2024 & Idea 47 & Carbon Capture        &  41 & Cross-Regional Team & Approved & Completed & Yes & Low   \\\\\n\t6 & b86d3b55 & China   & Renewable Energy     & 10/11/2024 & Idea 52 & Carbon Capture        &  27 & Cross-Regional Team & Approved & Completed & Yes & Low   \\\\\n\\end{tabular}\n",
            "text/plain": [
              "  Employee.ID Office.Location Department           Idea.Submission.Date\n",
              "1 cb8ed680    Japan           Technology           24/12/2023          \n",
              "2 018d372d    Germany         Technology           16/08/2024          \n",
              "3 25120b55    UK              Technology           08/04/2024          \n",
              "4 3d5402e7    Germany         Technology           29/10/2023          \n",
              "5 4aa3ec97    Canada          Environmental Policy 17/11/2024          \n",
              "6 b86d3b55    China           Renewable Energy     10/11/2024          \n",
              "  Idea.Title Idea.Category         Number.of.Votes Collaboration.Status\n",
              "1 Idea 4     Circular Economy      330             Cross-Regional Team \n",
              "2 Idea 17    Water Management        2             Cross-Regional Team \n",
              "3 Idea 33    Sustainable Transport 353             Cross-Regional Team \n",
              "4 Idea 39    Water Management      433             Cross-Regional Team \n",
              "5 Idea 47    Carbon Capture         41             Cross-Regional Team \n",
              "6 Idea 52    Carbon Capture         27             Cross-Regional Team \n",
              "  Approval.Status Implementation.Status Security.Concern.Flag Popularity\n",
              "1 Approved        Completed             No                    Medium    \n",
              "2 Approved        Completed             No                    Low       \n",
              "3 Approved        Completed             No                    Medium    \n",
              "4 Approved        Completed             No                    High      \n",
              "5 Approved        Completed             Yes                   Low       \n",
              "6 Approved        Completed             Yes                   Low       "
            ]
          },
          "metadata": {}
        }
      ]
    },
    {
      "cell_type": "code",
      "source": [
        "#Step 6; Visualisation using ggplot2\n",
        "\n",
        "# Plot 1: Bar plot – Number of ideas per department\n",
        "ggplot(data, aes(x = Department)) +\n",
        "  geom_bar(fill = \"steelblue\") +\n",
        "  theme_minimal() +\n",
        "  labs(title = \"Ideas per Department\", x = \"Department\", y = \"Count\")\n",
        "\n",
        "# Plot 2: Boxplot – Votes by Idea Category\n",
        "ggplot(data, aes(x = `Idea.Category`, y = `Number.of.Votes`)) +\n",
        "  geom_boxplot(fill = \"lightgreen\") +\n",
        "  theme_minimal() +\n",
        "  labs(title = \"Votes by Idea Category\", x = \"Category\", y = \"Votes\")\n",
        "\n",
        "# Plot 3: Pie chart – Share of collaboration types\n",
        "collab_data <- data %>%\n",
        "  group_by(`Collaboration.Status`) %>%\n",
        "  summarise(Count = n())\n",
        "\n",
        "ggplot(collab_data, aes(x = \"\", y = Count, fill = `Collaboration.Status`)) +\n",
        "  geom_col(width = 1) +\n",
        "  coord_polar(\"y\") +\n",
        "  theme_void() +\n",
        "  labs(title = \"Collaboration Type Distribution\")"
      ],
      "metadata": {
        "colab": {
          "base_uri": "https://localhost:8080/",
          "height": 1000
        },
        "id": "1vf11v-mxPRw",
        "outputId": "86acdea8-8506-4c15-85d2-1ced993fde52"
      },
      "execution_count": 19,
      "outputs": [
        {
          "output_type": "display_data",
          "data": {
            "text/plain": [
              "plot without title"
            ],
            "image/png": "[encoded data removed]"
          },
          "metadata": {
            "image/png": {
              "width": 420,
              "height": 420
            }
          }
        },
        {
          "output_type": "display_data",
          "data": {
            "text/plain": [
              "plot without title"
            ],
            "image/png": "[encoded data removed]"
          },
          "metadata": {
            "image/png": {
              "width": 420,
              "height": 420
            }
          }
        },
        {
          "output_type": "display_data",
          "data": {
            "text/plain": [
              "plot without title"
            ],
            "image/png": "[encoded data removed]"
          },
          "metadata": {
            "image/png": {
              "width": 420,
              "height": 420
            }
          }
        }
      ]
    }
  ]
}