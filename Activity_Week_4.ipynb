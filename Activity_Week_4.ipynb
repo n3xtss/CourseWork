{
  "nbformat": 4,
  "nbformat_minor": 0,
  "metadata": {
    "colab": {
      "provenance": [],
      "include_colab_link": true
    },
    "kernelspec": {
      "name": "ir",
      "display_name": "R"
    },
    "language_info": {
      "name": "R"
    }
  },
  "cells": [
    {
      "cell_type": "markdown",
      "metadata": {
        "id": "view-in-github",
        "colab_type": "text"
      },
      "source": [
        "<a href=\"https://colab.research.google.com/github/n3xtss/CourseWork/blob/main/Activity_Week_4.ipynb\" target=\"_parent\"><img src=\"https://colab.research.google.com/assets/colab-badge.svg\" alt=\"Open In Colab\"/></a>"
      ]
    },
    {
      "cell_type": "markdown",
      "source": [
        "Class Identification Exercise:\n",
        "\n",
        "Create a vector named animals containing the names of three different animals.\n",
        "Use the class() function to identify the class of animals.\n",
        "What class do animals belong to?"
      ],
      "metadata": {
        "id": "ShYV8_SmW1Aa"
      }
    },
    {
      "cell_type": "code",
      "execution_count": null,
      "metadata": {
        "id": "XfyNW1cLW0Iz",
        "outputId": "1e9efbb7-d24c-4193-97db-dc6918e3bb57",
        "colab": {
          "base_uri": "https://localhost:8080/"
        }
      },
      "outputs": [
        {
          "output_type": "stream",
          "name": "stdout",
          "text": [
            "[1] \"hamster\" \"dog\"     \"cat\"    \n"
          ]
        }
      ],
      "source": [
        "x <- c(\"hamster\", \"dog\", \"cat\")\n",
        "print(x)"
      ]
    },
    {
      "cell_type": "markdown",
      "source": [
        "Define two vectors: numbers1 with the numbers 1 to 3 and numbers2 with the numbers 4 to 6.\n",
        "Use the c() function to combine the two vectors into a single vector named all_numbers.\n",
        "Print all_numbers to verify the combination."
      ],
      "metadata": {
        "id": "6t9FaBmfXOpv"
      }
    },
    {
      "cell_type": "code",
      "source": [
        "x <- c(1, 2, 3)\n",
        "y <- c(x, 4, 5, 6)\n",
        "print(y)"
      ],
      "metadata": {
        "id": "SF3URttwXrlW",
        "outputId": "3d7ac57b-9035-4c7c-e843-59d3717ce5be",
        "colab": {
          "base_uri": "https://localhost:8080/"
        }
      },
      "execution_count": null,
      "outputs": [
        {
          "output_type": "stream",
          "name": "stdout",
          "text": [
            "[1] 1 2 3 4 5 6\n"
          ]
        }
      ]
    },
    {
      "cell_type": "code",
      "source": [],
      "metadata": {
        "id": "dCDDE_7khuyp"
      },
      "execution_count": null,
      "outputs": []
    },
    {
      "cell_type": "markdown",
      "source": [
        "Create a vector called temperatures containing the temperatures of a location for a week (e.g., 25, 28, 30, 27, 29, 26, 31).\n",
        "Use the typeof() function to determine the data type of temperatures.\n",
        "What data type is temperatures?"
      ],
      "metadata": {
        "id": "eRbZonRUX7kK"
      }
    },
    {
      "cell_type": "code",
      "source": [
        "temperatures <- c(25, 28, 30, 27, 29, 26, 31)\n",
        "typeof(temperatures)"
      ],
      "metadata": {
        "id": "tnpH05EoX9sH",
        "outputId": "91fa7d93-6afd-405a-c288-df4011259299",
        "colab": {
          "base_uri": "https://localhost:8080/",
          "height": 34
        }
      },
      "execution_count": null,
      "outputs": [
        {
          "output_type": "display_data",
          "data": {
            "text/html": [
              "'double'"
            ],
            "text/markdown": "'double'",
            "text/latex": "'double'",
            "text/plain": [
              "[1] \"double\""
            ]
          },
          "metadata": {}
        }
      ]
    },
    {
      "cell_type": "markdown",
      "source": [
        "Suppose two more animals are added to the animals vector: \"elephant\" and \"tiger\".\n",
        "Remove the second animal from the animals vector.\n",
        "Print the modified animals vector to verify the removal."
      ],
      "metadata": {
        "id": "deTTG5EiX-HP"
      }
    },
    {
      "cell_type": "code",
      "source": [
        "x <- c(\"hamster\", \"dog\", \"cat\", \"elephant\", \"rabbit\")\n",
        "x<-x[-2]\n",
        "x"
      ],
      "metadata": {
        "id": "l2jPlqXrlub_",
        "outputId": "f5d1d2e9-bc7f-4751-a107-7e30297f0913",
        "colab": {
          "base_uri": "https://localhost:8080/",
          "height": 34
        }
      },
      "execution_count": 6,
      "outputs": [
        {
          "output_type": "display_data",
          "data": {
            "text/html": [
              "<style>\n",
              ".list-inline {list-style: none; margin:0; padding: 0}\n",
              ".list-inline>li {display: inline-block}\n",
              ".list-inline>li:not(:last-child)::after {content: \"\\00b7\"; padding: 0 .5ex}\n",
              "</style>\n",
              "<ol class=list-inline><li>'hamster'</li><li>'cat'</li><li>'elephant'</li><li>'rabbit'</li></ol>\n"
            ],
            "text/markdown": "1. 'hamster'\n2. 'cat'\n3. 'elephant'\n4. 'rabbit'\n\n\n",
            "text/latex": "\\begin{enumerate*}\n\\item 'hamster'\n\\item 'cat'\n\\item 'elephant'\n\\item 'rabbit'\n\\end{enumerate*}\n",
            "text/plain": [
              "[1] \"hamster\"  \"cat\"      \"elephant\" \"rabbit\"  "
            ]
          },
          "metadata": {}
        }
      ]
    }
  ]
}